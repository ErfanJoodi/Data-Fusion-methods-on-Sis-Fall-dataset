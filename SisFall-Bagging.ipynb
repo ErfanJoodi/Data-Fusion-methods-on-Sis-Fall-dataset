{
 "cells": [
  {
   "cell_type": "markdown",
   "id": "97ffcdd3",
   "metadata": {},
   "source": [
    "# Hi :)"
   ]
  },
  {
   "cell_type": "markdown",
   "id": "d85107f8",
   "metadata": {},
   "source": [
    "----"
   ]
  }
 ],
 "metadata": {
  "kernelspec": {
   "display_name": "Qvenv",
   "language": "python",
   "name": "qvenv"
  },
  "language_info": {
   "name": "python",
   "version": "3.10.0"
  }
 },
 "nbformat": 4,
 "nbformat_minor": 5
}
