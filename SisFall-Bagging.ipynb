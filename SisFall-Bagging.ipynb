{
 "cells": [
  {
   "cell_type": "markdown",
   "id": "97ffcdd3",
   "metadata": {},
   "source": [
    "# Hi :)"
   ]
  },
  {
   "cell_type": "markdown",
   "id": "d85107f8",
   "metadata": {},
   "source": [
    "----"
   ]
  },
  {
   "cell_type": "markdown",
   "id": "92ea74c6",
   "metadata": {},
   "source": [
    "# Import libraries"
   ]
  },
  {
   "cell_type": "code",
   "execution_count": 9,
   "id": "a8bf79b6",
   "metadata": {},
   "outputs": [],
   "source": [
    "import numpy as np\n",
    "import pandas as pd\n",
    "from sklearn.svm import SVC\n",
    "from sklearn.ensemble import RandomForestClassifier\n",
    "from xgboost import XGBClassifier\n",
    "from sklearn.utils import resample\n",
    "from sklearn.model_selection import train_test_split\n",
    "from sklearn.metrics import accuracy_score\n",
    "from scipy.stats import mode\n",
    "from sklearn.preprocessing import LabelEncoder"
   ]
  },
  {
   "cell_type": "markdown",
   "id": "08edc657",
   "metadata": {},
   "source": [
    "# ITG"
   ]
  },
  {
   "cell_type": "markdown",
   "id": "ddc4730a",
   "metadata": {},
   "source": [
    "# Loading the dataset"
   ]
  },
  {
   "cell_type": "code",
   "execution_count": 10,
   "id": "d6c68cbc",
   "metadata": {},
   "outputs": [],
   "source": [
    "ITG_features_df= pd.read_csv('Dataset/ITG_features_df.csv')"
   ]
  },
  {
   "cell_type": "markdown",
   "id": "88d6331d",
   "metadata": {},
   "source": [
    "# Bagging"
   ]
  },
  {
   "cell_type": "code",
   "execution_count": 11,
   "id": "eca7e99a",
   "metadata": {},
   "outputs": [],
   "source": [
    "# Step 1: Extract features and labels\n",
    "X= ITG_features_df[['F1_sum_vector_magnitude', 'F2_orientation_angle', 'F3_std_magnitude']].values\n",
    "y= ITG_features_df['Situation'].values\n",
    "\n",
    "# Step 2: Encode labels ('Fall' → 1, 'Not Fall' → 0)\n",
    "label_encoder= LabelEncoder()\n",
    "y_encoded= label_encoder.fit_transform(y)\n",
    "\n",
    "# Step 3: Split dataset\n",
    "X_train, X_test, y_train, y_test= train_test_split(X, y_encoded, test_size= 0.2, random_state= 48, stratify= y_encoded)"
   ]
  },
  {
   "cell_type": "code",
   "execution_count": null,
   "id": "eda30480",
   "metadata": {},
   "outputs": [],
   "source": [
    "# Step 4: Train Bagging\n",
    "# Define base classifiers with chosen hyperparameters\n",
    "svm_clf= SVC(kernel= 'rbf', C= 100, gamma= 1, random_state= 48)\n",
    "rf_clf= RandomForestClassifier(n_estimators= 100, max_depth= 10, min_samples_split= 5, min_samples_leaf= 1, random_state= 48)\n",
    "xgb_clf= XGBClassifier(n_estimators= 200, max_depth= 5, learning_rate= 0.1, subsample= 1.0, objective= 'binary:logistic', use_label_encoder= False, eval_metric= 'logloss', random_state= 48)\n",
    "\n",
    "# Function to create a bootstrap sample from training data\n",
    "def bootstrap_sample(X, y):\n",
    "    return resample(X, y, replace= True, n_samples= len(y), random_state= None)\n",
    "\n",
    "# Bootstrap sampling and training for each classifier\n",
    "X_svm, y_svm= bootstrap_sample(X_train, y_train)\n",
    "svm_clf.fit(X_svm, y_svm)\n",
    "\n",
    "X_rf, y_rf = bootstrap_sample(X_train, y_train)\n",
    "rf_clf.fit(X_rf, y_rf)\n",
    "\n",
    "X_xgb, y_xgb = bootstrap_sample(X_train, y_train)\n",
    "xgb_clf.fit(X_xgb, y_xgb)\n",
    "\n",
    "# Predict test set for each classifier\n",
    "y_pred_svm = svm_clf.predict(X_test)\n",
    "y_pred_rf = rf_clf.predict(X_test)\n",
    "y_pred_xgb = xgb_clf.predict(X_test)\n",
    "\n",
    "# Majority voting function\n",
    "def majority_vote(predictions):\n",
    "    \"\"\"\n",
    "    predictions: list of np.array, each with predicted labels\n",
    "    returns: np.array of majority voted predictions\n",
    "    \"\"\"\n",
    "    preds_stack = np.vstack(predictions)\n",
    "    majority_pred, _ = mode(preds_stack, axis=0)\n",
    "    return majority_pred.ravel()\n",
    "\n",
    "# Combine predictions by majority vote\n",
    "y_pred_ensemble = majority_vote([y_pred_svm, y_pred_rf, y_pred_xgb])\n",
    "\n",
    "# Evaluate ensemble accuracy\n",
    "accuracy = accuracy_score(y_test, y_pred_ensemble)\n",
    "print(f\"Ensemble accuracy with bootstrap + majority voting: {accuracy:.4f}\")\n"
   ]
  }
 ],
 "metadata": {
  "kernelspec": {
   "display_name": "Qvenv",
   "language": "python",
   "name": "qvenv"
  },
  "language_info": {
   "codemirror_mode": {
    "name": "ipython",
    "version": 3
   },
   "file_extension": ".py",
   "mimetype": "text/x-python",
   "name": "python",
   "nbconvert_exporter": "python",
   "pygments_lexer": "ipython3",
   "version": "3.10.0"
  }
 },
 "nbformat": 4,
 "nbformat_minor": 5
}
