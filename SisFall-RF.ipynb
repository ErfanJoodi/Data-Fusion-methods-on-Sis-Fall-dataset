{
 "cells": [
  {
   "cell_type": "markdown",
   "id": "19a3c90b",
   "metadata": {},
   "source": [
    "# Hi :)"
   ]
  },
  {
   "cell_type": "markdown",
   "id": "58f1d571",
   "metadata": {},
   "source": [
    "----"
   ]
  }
 ],
 "metadata": {
  "kernelspec": {
   "display_name": "Qvenv",
   "language": "python",
   "name": "qvenv"
  },
  "language_info": {
   "name": "python",
   "version": "3.10.0"
  }
 },
 "nbformat": 4,
 "nbformat_minor": 5
}
