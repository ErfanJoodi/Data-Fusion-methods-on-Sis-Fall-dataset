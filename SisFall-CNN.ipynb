{
 "cells": [
  {
   "cell_type": "markdown",
   "id": "b20987d9",
   "metadata": {},
   "source": [
    "# Hi :)"
   ]
  },
  {
   "cell_type": "markdown",
   "id": "51dcbda2",
   "metadata": {},
   "source": [
    "----"
   ]
  },
  {
   "cell_type": "markdown",
   "id": "457ba7b7",
   "metadata": {},
   "source": [
    "# Import libraries"
   ]
  },
  {
   "cell_type": "code",
   "execution_count": 3,
   "id": "5eaf7ebe",
   "metadata": {},
   "outputs": [],
   "source": [
    "import pandas as pd\n",
    "import torch\n",
    "import torch.nn as nn\n",
    "from torch.utils.data import Dataset, DataLoader\n",
    "from sklearn.preprocessing import LabelEncoder, StandardScaler\n",
    "from sklearn.model_selection import train_test_split\n",
    "import numpy as np\n",
    "from sklearn.metrics import classification_report, confusion_matrix, accuracy_score\n",
    "import seaborn as sns\n",
    "import matplotlib.pyplot as plt"
   ]
  },
  {
   "cell_type": "markdown",
   "id": "0566613a",
   "metadata": {},
   "source": [
    "# Initialization"
   ]
  },
  {
   "cell_type": "code",
   "execution_count": 9,
   "id": "1a121e56",
   "metadata": {},
   "outputs": [],
   "source": [
    "# Dataset and DataLoader\n",
    "class CNNFeatureDataset(Dataset):\n",
    "    def __init__(self, X, y):\n",
    "        self.X= torch.tensor(X, dtype= torch.float32)\n",
    "        self.y= torch.tensor(y, dtype= torch.long)\n",
    "    \n",
    "    def __len__(self):\n",
    "        return len(self.X)\n",
    "    \n",
    "    def __getitem__(self, idx):\n",
    "        return self.X[idx], self.y[idx]\n",
    "\n",
    "# Define 1D CNN\n",
    "class SimpleCNN(nn.Module):\n",
    "    def __init__(self):\n",
    "        super(SimpleCNN, self).__init__()\n",
    "        self.network= nn.Sequential(\n",
    "            nn.Conv1d(1, 16, kernel_size= 2),  # output: [batch, 16, 2]\n",
    "            nn.ReLU(),\n",
    "            nn.Flatten(),  # [batch, 16 * 2]\n",
    "            nn.Linear(16 * 2, 32),\n",
    "            nn.ReLU(),\n",
    "            nn.Linear(32, 2)  # Binary classification (output: logits for 2 classes)\n",
    "        )\n",
    "\n",
    "    def forward(self, x):\n",
    "        return self.network(x)"
   ]
  },
  {
   "cell_type": "markdown",
   "id": "fcee8b41",
   "metadata": {},
   "source": [
    "# ITG"
   ]
  },
  {
   "cell_type": "markdown",
   "id": "8f8d6ab9",
   "metadata": {},
   "source": [
    "# Loading the dataset"
   ]
  },
  {
   "cell_type": "code",
   "execution_count": 4,
   "id": "98165c7c",
   "metadata": {},
   "outputs": [],
   "source": [
    "ITG_features_df= pd.read_csv('Dataset/ITG_features_df.csv')"
   ]
  },
  {
   "cell_type": "markdown",
   "id": "ed2b22ad",
   "metadata": {},
   "source": [
    "# CNN"
   ]
  },
  {
   "cell_type": "code",
   "execution_count": null,
   "id": "34489208",
   "metadata": {},
   "outputs": [],
   "source": [
    "# Step 1: Extract features and labels\n",
    "X= ITG_features_df[['F1_sum_vector_magnitude', 'F2_orientation_angle', 'F3_std_magnitude']].values\n",
    "y= ITG_features_df['Situation'].values\n",
    "\n",
    "# Step 2: Encode labels ('Fall' → 1, 'Not Fall' → 0)\n",
    "label_encoder= LabelEncoder()\n",
    "y_encoded= label_encoder.fit_transform(y)\n",
    "\n",
    "# Step 3: Normalize features\n",
    "scaler= StandardScaler()\n",
    "X= scaler.fit_transform(X)\n",
    "\n",
    "# Step 4: Reshape to 1D-CNN format: (samples, channels= 1, timesteps= 3)\n",
    "X= X.reshape((X.shape[0], 1, X.shape[1]))\n",
    "\n",
    "# Step 5: Split dataset\n",
    "X_train, X_test, y_train, y_test= train_test_split(X, y_encoded, test_size= 0.2, random_state= 48, stratify= y_encoded)"
   ]
  },
  {
   "cell_type": "code",
   "execution_count": 7,
   "id": "d61af089",
   "metadata": {},
   "outputs": [],
   "source": [
    "# Step 6: Dataset and DataLoader\n",
    "train_loader= DataLoader(CNNFeatureDataset(X_train, y_train), batch_size= 16, shuffle= True)\n",
    "test_loader= DataLoader(CNNFeatureDataset(X_test, y_test), batch_size= 16)"
   ]
  },
  {
   "cell_type": "code",
   "execution_count": 16,
   "id": "2efd2b99",
   "metadata": {},
   "outputs": [
    {
     "name": "stdout",
     "output_type": "stream",
     "text": [
      "Epoch 1, Loss: 673.3182\n",
      "Epoch 2, Loss: 654.5667\n",
      "Epoch 3, Loss: 649.4370\n",
      "Epoch 4, Loss: 647.1867\n",
      "Epoch 5, Loss: 645.9639\n",
      "Epoch 6, Loss: 643.3156\n",
      "Epoch 7, Loss: 641.4247\n",
      "Epoch 8, Loss: 640.4320\n",
      "Epoch 9, Loss: 638.9511\n",
      "Epoch 10, Loss: 637.2766\n",
      "Epoch 11, Loss: 636.0247\n",
      "Epoch 12, Loss: 634.5859\n",
      "Epoch 13, Loss: 632.8539\n",
      "Epoch 14, Loss: 631.5299\n",
      "Epoch 15, Loss: 630.5744\n",
      "Epoch 16, Loss: 631.4525\n",
      "Epoch 17, Loss: 628.7779\n",
      "Epoch 18, Loss: 628.1653\n",
      "Epoch 19, Loss: 627.9321\n",
      "Epoch 20, Loss: 627.8774\n"
     ]
    }
   ],
   "source": [
    "# Step 7: Train CNN\n",
    "device= torch.device(\"cuda\" if torch.cuda.is_available() else \"cpu\")\n",
    "model= SimpleCNN().to(device)\n",
    "\n",
    "criterion= nn.CrossEntropyLoss()\n",
    "optimizer= torch.optim.Adam(model.parameters(), lr= 0.001)\n",
    "\n",
    "for epoch in range(20):\n",
    "    model.train()\n",
    "    total_loss= 0\n",
    "    for X_batch, y_batch in train_loader:\n",
    "        X_batch, y_batch= X_batch.to(device), y_batch.to(device)\n",
    "        \n",
    "        optimizer.zero_grad()\n",
    "        out= model(X_batch)\n",
    "        loss= criterion(out, y_batch)\n",
    "        loss.backward()\n",
    "        optimizer.step()\n",
    "        total_loss += loss.item()\n",
    "    \n",
    "    print(f\"Epoch {epoch + 1}, Loss: {total_loss:.4f}\")"
   ]
  },
  {
   "cell_type": "code",
   "execution_count": 18,
   "id": "7a0a146f",
   "metadata": {},
   "outputs": [
    {
     "name": "stdout",
     "output_type": "stream",
     "text": [
      "Accuracy: 0.6752503576537912\n",
      "Classification Report:\n",
      "               precision    recall  f1-score   support\n",
      "\n",
      "        Fall       0.65      0.75      0.70      2097\n",
      "    Not Fall       0.71      0.60      0.65      2097\n",
      "\n",
      "    accuracy                           0.68      4194\n",
      "   macro avg       0.68      0.68      0.67      4194\n",
      "weighted avg       0.68      0.68      0.67      4194\n",
      "\n"
     ]
    },
    {
     "data": {
      "image/png": "[encoded data removed]",
      "text/plain": [
       "<Figure size 640x480 with 2 Axes>"
      ]
     },
     "metadata": {},
     "output_type": "display_data"
    }
   ],
   "source": [
    "# Step 8: Evaluation\n",
    "model.eval()\n",
    "all_preds= []\n",
    "all_true= []\n",
    "\n",
    "with torch.no_grad():\n",
    "    for X_batch, y_batch in test_loader:\n",
    "        X_batch= X_batch.to(device)\n",
    "        outputs= model(X_batch)\n",
    "        _, predicted= torch.max(outputs, 1)\n",
    "        all_preds.extend(predicted.cpu().numpy())\n",
    "        all_true.extend(y_batch.numpy())\n",
    "\n",
    "print(\"Accuracy:\", accuracy_score(all_true, all_preds))\n",
    "print(\"Classification Report:\\n\", classification_report(all_true, all_preds, target_names= label_encoder.classes_))\n",
    "\n",
    "# Confusion Matrix\n",
    "cm= confusion_matrix(all_true, all_preds)\n",
    "sns.heatmap(cm, annot= True, fmt= 'd', xticklabels= label_encoder.classes_, yticklabels= label_encoder.classes_)\n",
    "plt.title(\"CNN Confusion Matrix\")\n",
    "plt.xlabel(\"Predicted\")\n",
    "plt.ylabel(\"Actual\")\n",
    "plt.show()"
   ]
  },
  {
   "cell_type": "markdown",
   "id": "e7b3bf04",
   "metadata": {},
   "source": [
    "----"
   ]
  },
  {
   "cell_type": "markdown",
   "id": "c108d1be",
   "metadata": {},
   "source": [
    "# Data Fusion"
   ]
  },
  {
   "cell_type": "markdown",
   "id": "97fc7c59",
   "metadata": {},
   "source": [
    "# Loading the dataset"
   ]
  },
  {
   "cell_type": "code",
   "execution_count": 19,
   "id": "13e02ed6",
   "metadata": {},
   "outputs": [],
   "source": [
    "KF_features_df= pd.read_csv('Dataset/KF_features_df.csv')"
   ]
  },
  {
   "cell_type": "markdown",
   "id": "a0cf9237",
   "metadata": {},
   "source": [
    "# CNN"
   ]
  },
  {
   "cell_type": "code",
   "execution_count": 20,
   "id": "21da2f59",
   "metadata": {},
   "outputs": [],
   "source": [
    "# Step 1: Extract features and labels\n",
    "X= KF_features_df[['F1_sum_vector_magnitude', 'F2_orientation_angle', 'F3_std_magnitude']].values\n",
    "y= KF_features_df['Situation'].values\n",
    "\n",
    "# Step 2: Encode labels ('Fall' → 1, 'Not Fall' → 0)\n",
    "label_encoder= LabelEncoder()\n",
    "y_encoded= label_encoder.fit_transform(y)\n",
    "\n",
    "# Step 3: Normalize features\n",
    "scaler= StandardScaler()\n",
    "X= scaler.fit_transform(X)\n",
    "\n",
    "# Step 4: Reshape to 1D-CNN format: (samples, channels= 1, timesteps= 3)\n",
    "X= X.reshape((X.shape[0], 1, X.shape[1]))\n",
    "\n",
    "# Step 5: Split dataset\n",
    "X_train, X_test, y_train, y_test= train_test_split(X, y_encoded, test_size= 0.2, random_state= 48, stratify= y_encoded)"
   ]
  },
  {
   "cell_type": "code",
   "execution_count": 21,
   "id": "a08d6f77",
   "metadata": {},
   "outputs": [],
   "source": [
    "# Step 6: Dataset and DataLoader\n",
    "train_loader= DataLoader(CNNFeatureDataset(X_train, y_train), batch_size= 16, shuffle= True)\n",
    "test_loader= DataLoader(CNNFeatureDataset(X_test, y_test), batch_size= 16)"
   ]
  },
  {
   "cell_type": "code",
   "execution_count": 22,
   "id": "393db825",
   "metadata": {},
   "outputs": [
    {
     "name": "stdout",
     "output_type": "stream",
     "text": [
      "Epoch 1, Loss: 569.1123\n",
      "Epoch 2, Loss: 548.0420\n",
      "Epoch 3, Loss: 538.3863\n",
      "Epoch 4, Loss: 532.3237\n",
      "Epoch 5, Loss: 528.4084\n",
      "Epoch 6, Loss: 525.1506\n",
      "Epoch 7, Loss: 523.0890\n",
      "Epoch 8, Loss: 521.1240\n",
      "Epoch 9, Loss: 520.0214\n",
      "Epoch 10, Loss: 517.9118\n",
      "Epoch 11, Loss: 517.0802\n",
      "Epoch 12, Loss: 515.7394\n",
      "Epoch 13, Loss: 514.3798\n",
      "Epoch 14, Loss: 512.6888\n",
      "Epoch 15, Loss: 511.2780\n",
      "Epoch 16, Loss: 509.8393\n",
      "Epoch 17, Loss: 508.2694\n",
      "Epoch 18, Loss: 507.4239\n",
      "Epoch 19, Loss: 505.2150\n",
      "Epoch 20, Loss: 504.3107\n"
     ]
    }
   ],
   "source": [
    "# Step 7: Train CNN\n",
    "device= torch.device(\"cuda\" if torch.cuda.is_available() else \"cpu\")\n",
    "model= SimpleCNN().to(device)\n",
    "\n",
    "criterion= nn.CrossEntropyLoss()\n",
    "optimizer= torch.optim.Adam(model.parameters(), lr= 0.001)\n",
    "\n",
    "for epoch in range(20):\n",
    "    model.train()\n",
    "    total_loss= 0\n",
    "    for X_batch, y_batch in train_loader:\n",
    "        X_batch, y_batch= X_batch.to(device), y_batch.to(device)\n",
    "        \n",
    "        optimizer.zero_grad()\n",
    "        out= model(X_batch)\n",
    "        loss= criterion(out, y_batch)\n",
    "        loss.backward()\n",
    "        optimizer.step()\n",
    "        total_loss += loss.item()\n",
    "    \n",
    "    print(f\"Epoch {epoch + 1}, Loss: {total_loss:.4f}\")"
   ]
  },
  {
   "cell_type": "code",
   "execution_count": 23,
   "id": "12991d76",
   "metadata": {},
   "outputs": [
    {
     "name": "stdout",
     "output_type": "stream",
     "text": [
      "Accuracy: 0.7753934191702432\n",
      "Classification Report:\n",
      "               precision    recall  f1-score   support\n",
      "\n",
      "        Fall       0.80      0.73      0.77      2097\n",
      "    Not Fall       0.75      0.82      0.78      2097\n",
      "\n",
      "    accuracy                           0.78      4194\n",
      "   macro avg       0.78      0.78      0.77      4194\n",
      "weighted avg       0.78      0.78      0.77      4194\n",
      "\n"
     ]
    },
    {
     "data": {
      "image/png": "[encoded data removed]",
      "text/plain": [
       "<Figure size 640x480 with 2 Axes>"
      ]
     },
     "metadata": {},
     "output_type": "display_data"
    }
   ],
   "source": [
    "# Step 8: Evaluation\n",
    "model.eval()\n",
    "all_preds= []\n",
    "all_true= []\n",
    "\n",
    "with torch.no_grad():\n",
    "    for X_batch, y_batch in test_loader:\n",
    "        X_batch= X_batch.to(device)\n",
    "        outputs= model(X_batch)\n",
    "        _, predicted= torch.max(outputs, 1)\n",
    "        all_preds.extend(predicted.cpu().numpy())\n",
    "        all_true.extend(y_batch.numpy())\n",
    "\n",
    "print(\"Accuracy:\", accuracy_score(all_true, all_preds))\n",
    "print(\"Classification Report:\\n\", classification_report(all_true, all_preds, target_names= label_encoder.classes_))\n",
    "\n",
    "# Confusion Matrix\n",
    "cm= confusion_matrix(all_true, all_preds)\n",
    "sns.heatmap(cm, annot= True, fmt= 'd', xticklabels= label_encoder.classes_, yticklabels= label_encoder.classes_)\n",
    "plt.title(\"CNN Confusion Matrix\")\n",
    "plt.xlabel(\"Predicted\")\n",
    "plt.ylabel(\"Actual\")\n",
    "plt.show()"
   ]
  }
 ],
 "metadata": {
  "kernelspec": {
   "display_name": "Qvenv",
   "language": "python",
   "name": "qvenv"
  },
  "language_info": {
   "codemirror_mode": {
    "name": "ipython",
    "version": 3
   },
   "file_extension": ".py",
   "mimetype": "text/x-python",
   "name": "python",
   "nbconvert_exporter": "python",
   "pygments_lexer": "ipython3",
   "version": "3.10.0"
  }
 },
 "nbformat": 4,
 "nbformat_minor": 5
}
