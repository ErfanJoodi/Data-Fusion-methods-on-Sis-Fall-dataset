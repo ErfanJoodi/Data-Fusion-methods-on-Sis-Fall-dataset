{
 "cells": [
  {
   "cell_type": "markdown",
   "id": "498e3ce3",
   "metadata": {},
   "source": [
    "# Hi :)"
   ]
  },
  {
   "cell_type": "markdown",
   "id": "b7eaff15",
   "metadata": {},
   "source": [
    "----"
   ]
  },
  {
   "cell_type": "markdown",
   "id": "39b01f20",
   "metadata": {},
   "source": [
    "# Import libraries"
   ]
  },
  {
   "cell_type": "code",
   "execution_count": 1,
   "id": "d66509c2",
   "metadata": {},
   "outputs": [],
   "source": [
    "import pandas as pd\n",
    "import numpy as np\n",
    "from sklearn.svm import SVC\n",
    "from sklearn.ensemble import RandomForestClassifier\n",
    "from xgboost import XGBClassifier\n",
    "from sklearn.metrics import accuracy_score, classification_report, confusion_matrix\n",
    "from scipy.stats import mode\n",
    "import seaborn as sns\n",
    "import matplotlib.pyplot as plt\n",
    "import torch\n",
    "import torch.nn as nn\n",
    "from torch.utils.data import Dataset, DataLoader\n",
    "from sklearn.preprocessing import LabelEncoder, StandardScaler\n",
    "from sklearn.model_selection import train_test_split"
   ]
  },
  {
   "cell_type": "markdown",
   "id": "69c72f8f",
   "metadata": {},
   "source": [
    "# Initialization"
   ]
  },
  {
   "cell_type": "code",
   "execution_count": 2,
   "id": "14b70623",
   "metadata": {},
   "outputs": [],
   "source": [
    "# Scaler\n",
    "scaler= StandardScaler()\n",
    "\n",
    "# Dataset and DataLoader\n",
    "class CNNFeatureDataset(Dataset):\n",
    "    def __init__(self, X, y):\n",
    "        self.X= torch.tensor(X, dtype= torch.float32)\n",
    "        self.y= torch.tensor(y, dtype= torch.long)\n",
    "    \n",
    "    def __len__(self):\n",
    "        return len(self.X)\n",
    "    \n",
    "    def __getitem__(self, idx):\n",
    "        return self.X[idx], self.y[idx]\n",
    "\n",
    "# Define 1D CNN\n",
    "class SimpleCNN(nn.Module):\n",
    "    def __init__(self):\n",
    "        super(SimpleCNN, self).__init__()\n",
    "        self.network= nn.Sequential(\n",
    "            nn.Conv1d(1, 16, kernel_size= 2),  # output: [batch, 16, 2]\n",
    "            nn.ReLU(),\n",
    "            nn.Flatten(),  # [batch, 16 * 2]\n",
    "            nn.Linear(16 * 2, 32),\n",
    "            nn.ReLU(),\n",
    "            nn.Linear(32, 2)  # Binary classification (output: logits for 2 classes)\n",
    "        )\n",
    "\n",
    "    def forward(self, x):\n",
    "        return self.network(x)"
   ]
  },
  {
   "cell_type": "markdown",
   "id": "39b3a171",
   "metadata": {},
   "source": [
    "# ITG"
   ]
  },
  {
   "cell_type": "markdown",
   "id": "c25a16a6",
   "metadata": {},
   "source": [
    "# Loading the dataset"
   ]
  },
  {
   "cell_type": "code",
   "execution_count": 3,
   "id": "ae7dae0a",
   "metadata": {},
   "outputs": [],
   "source": [
    "ITG_features_df= pd.read_csv('Dataset/ITG_features_df.csv')"
   ]
  },
  {
   "cell_type": "markdown",
   "id": "7b2e28b1",
   "metadata": {},
   "source": [
    "# Boosting"
   ]
  },
  {
   "cell_type": "code",
   "execution_count": 4,
   "id": "4bbd5469",
   "metadata": {},
   "outputs": [],
   "source": [
    "# Step 1: Extract features and labels\n",
    "X= ITG_features_df[['F1_sum_vector_magnitude', 'F2_orientation_angle', 'F3_std_magnitude']].values\n",
    "y= ITG_features_df['Situation'].values\n",
    "\n",
    "# Step 2: Encode labels ('Fall' → 1, 'Not Fall' → 0)\n",
    "label_encoder= LabelEncoder()\n",
    "y_encoded= label_encoder.fit_transform(y)\n",
    "\n",
    "# Step 3: Split dataset\n",
    "X_train, X_test, y_train, y_test= train_test_split(X, y_encoded, test_size= 0.2, random_state= 48, stratify= y_encoded)"
   ]
  },
  {
   "cell_type": "code",
   "execution_count": 5,
   "id": "503f100e",
   "metadata": {},
   "outputs": [
    {
     "name": "stdout",
     "output_type": "stream",
     "text": [
      "Done SVM\n"
     ]
    }
   ],
   "source": [
    "# Step 4: Train first model (SVM)\n",
    "X_train1= X_train.copy()\n",
    "X_train1= scaler.fit_transform(X_train1)\n",
    "y_train1= y_train.copy()\n",
    "svm= SVC(kernel= 'rbf', C= 100, gamma= 1, random_state= 48)\n",
    "svm.fit(X_train1, y_train1)\n",
    "y_pred1= svm.predict(X_train1)\n",
    "errors1= (y_pred1 != y_train1).astype(int)\n",
    "print('Done SVM')"
   ]
  },
  {
   "cell_type": "code",
   "execution_count": 6,
   "id": "49722350",
   "metadata": {},
   "outputs": [],
   "source": [
    "# Step 5: Duplicate misclassified points\n",
    "misclassified_indices= np.where(errors1 == 1)[0]\n",
    "\n",
    "# Concatenate original data with misclassified points\n",
    "X_train2= np.concatenate([X_train, X_train[misclassified_indices]], axis= 0)\n",
    "y_train2= np.concatenate([y_train, y_train[misclassified_indices]], axis= 0)"
   ]
  },
  {
   "cell_type": "code",
   "execution_count": 7,
   "id": "fcf29306",
   "metadata": {},
   "outputs": [
    {
     "name": "stdout",
     "output_type": "stream",
     "text": [
      "Done RF\n"
     ]
    }
   ],
   "source": [
    "# Step 6: Train second model (Random Forest)\n",
    "rf= RandomForestClassifier(\n",
    "    n_estimators= 200,\n",
    "    max_depth= 10,\n",
    "    min_samples_split= 2,\n",
    "    min_samples_leaf= 1,\n",
    "    random_state= 48\n",
    ")\n",
    "rf.fit(X_train2, y_train2)\n",
    "y_pred2= rf.predict(X_train)\n",
    "errors2= (y_pred2 != y_train).astype(int)\n",
    "print('Done RF')"
   ]
  },
  {
   "cell_type": "code",
   "execution_count": 8,
   "id": "ba97a341",
   "metadata": {},
   "outputs": [],
   "source": [
    "# Step 7: Duplicate misclassified points\n",
    "misclassified_indices= np.where(errors2 == 1)[0]\n",
    "\n",
    "# Concatenate original data with misclassified points\n",
    "X_train3= np.concatenate([X_train, X_train[misclassified_indices]], axis= 0)\n",
    "y_train3= np.concatenate([y_train, y_train[misclassified_indices]], axis= 0)"
   ]
  },
  {
   "cell_type": "code",
   "execution_count": 9,
   "id": "b454e4ec",
   "metadata": {},
   "outputs": [
    {
     "name": "stderr",
     "output_type": "stream",
     "text": [
      "f:\\Quera\\Qvenv\\lib\\site-packages\\xgboost\\training.py:183: UserWarning: [19:31:09] WARNING: C:\\actions-runner\\_work\\xgboost\\xgboost\\src\\learner.cc:738: \n",
      "Parameters: { \"use_label_encoder\" } are not used.\n",
      "\n",
      "  bst.update(dtrain, iteration=i, fobj=obj)\n"
     ]
    },
    {
     "name": "stdout",
     "output_type": "stream",
     "text": [
      "Done XGB\n"
     ]
    }
   ],
   "source": [
    "# Step 8: Train third model (XGBoost)\n",
    "xgb= XGBClassifier(\n",
    "    n_estimators= 100,\n",
    "    max_depth= 5,\n",
    "    learning_rate= 0.1,\n",
    "    subsample= 0.8,\n",
    "    objective= 'binary:logistic',\n",
    "    use_label_encoder= False,\n",
    "    eval_metric= 'logloss',\n",
    "    random_state= 48\n",
    ")\n",
    "xgb.fit(X_train3, y_train3)\n",
    "y_pred3= xgb.predict(X_train)\n",
    "errors3= (y_pred3 != y_train).astype(int)\n",
    "print('Done XGB')"
   ]
  },
  {
   "cell_type": "code",
   "execution_count": 10,
   "id": "180edd9e",
   "metadata": {},
   "outputs": [],
   "source": [
    "# Step 9: Duplicate misclassified points\n",
    "misclassified_indices= np.where(errors3 == 1)[0]\n",
    "\n",
    "# Concatenate original data with misclassified points\n",
    "X_train4= np.concatenate([X_train, X_train[misclassified_indices]], axis= 0)\n",
    "y_train4= np.concatenate([y_train, y_train[misclassified_indices]], axis= 0)"
   ]
  },
  {
   "cell_type": "code",
   "execution_count": 11,
   "id": "356b589b",
   "metadata": {},
   "outputs": [
    {
     "name": "stdout",
     "output_type": "stream",
     "text": [
      "Epoch 1, Loss: 939.3171\n",
      "Epoch 2, Loss: 930.1562\n",
      "Epoch 3, Loss: 926.6039\n",
      "Epoch 4, Loss: 923.5632\n",
      "Epoch 5, Loss: 921.2189\n",
      "Epoch 6, Loss: 919.2958\n",
      "Epoch 7, Loss: 918.2679\n",
      "Epoch 8, Loss: 916.6064\n",
      "Epoch 9, Loss: 915.6411\n",
      "Epoch 10, Loss: 913.7505\n",
      "Epoch 11, Loss: 912.7625\n",
      "Epoch 12, Loss: 912.1769\n",
      "Epoch 13, Loss: 910.0503\n",
      "Epoch 14, Loss: 909.4440\n",
      "Epoch 15, Loss: 908.1366\n",
      "Epoch 16, Loss: 908.0391\n",
      "Epoch 17, Loss: 907.0924\n",
      "Epoch 18, Loss: 907.2675\n",
      "Epoch 19, Loss: 906.3456\n",
      "Epoch 20, Loss: 905.5491\n",
      "Done CNN\n",
      "Done Boosting\n"
     ]
    }
   ],
   "source": [
    "# Step 10: Train fourth model (CNN)\n",
    "# Normalize features\n",
    "scaler= StandardScaler()\n",
    "X_train4= scaler.fit_transform(X_train4)\n",
    "X_test= scaler.transform(X_test)\n",
    "\n",
    "# Reshape to 1D-CNN format: (samples, channels= 1, timesteps= 3)\n",
    "X_train4= X_train4.reshape((X_train4.shape[0], 1, X_train4.shape[1]))\n",
    "X_test= X_test.reshape((X_test.shape[0], 1, X_test.shape[1]))\n",
    "\n",
    "# Dataset and DataLoader\n",
    "train_loader= DataLoader(CNNFeatureDataset(X_train4, y_train4), batch_size= 16, shuffle= True)\n",
    "test_loader= DataLoader(CNNFeatureDataset(X_test, y_test), batch_size= 16)\n",
    "\n",
    "# Train CNN\n",
    "device= torch.device(\"cuda\" if torch.cuda.is_available() else \"cpu\")\n",
    "model= SimpleCNN().to(device)\n",
    "\n",
    "criterion= nn.CrossEntropyLoss()\n",
    "optimizer= torch.optim.Adam(model.parameters(), lr= 0.001)\n",
    "\n",
    "for epoch in range(20):\n",
    "    model.train()\n",
    "    total_loss= 0\n",
    "    for X_batch, y_batch in train_loader:\n",
    "        X_batch, y_batch= X_batch.to(device), y_batch.to(device)\n",
    "        \n",
    "        optimizer.zero_grad()\n",
    "        out= model(X_batch)\n",
    "        loss= criterion(out, y_batch)\n",
    "        loss.backward()\n",
    "        optimizer.step()\n",
    "        total_loss += loss.item()\n",
    "    \n",
    "    print(f\"Epoch {epoch + 1}, Loss: {total_loss:.4f}\")\n",
    "\n",
    "print('Done CNN')\n",
    "print('Done Boosting')"
   ]
  },
  {
   "cell_type": "code",
   "execution_count": 12,
   "id": "9d4b583d",
   "metadata": {},
   "outputs": [
    {
     "name": "stdout",
     "output_type": "stream",
     "text": [
      "Accuracy: 0.5896518836432999\n",
      "Classification Report:\n",
      "               precision    recall  f1-score   support\n",
      "\n",
      "        Fall       0.59      0.56      0.58      2097\n",
      "    Not Fall       0.58      0.62      0.60      2097\n",
      "\n",
      "    accuracy                           0.59      4194\n",
      "   macro avg       0.59      0.59      0.59      4194\n",
      "weighted avg       0.59      0.59      0.59      4194\n",
      "\n"
     ]
    },
    {
     "data": {
      "image/png": "[encoded data removed]",
      "text/plain": [
       "<Figure size 640x480 with 2 Axes>"
      ]
     },
     "metadata": {},
     "output_type": "display_data"
    }
   ],
   "source": [
    "# Step 11: Evaluation\n",
    "model.eval()\n",
    "all_preds= []\n",
    "all_true= []\n",
    "\n",
    "with torch.no_grad():\n",
    "    for X_batch, y_batch in test_loader:\n",
    "        X_batch= X_batch.to(device)\n",
    "        outputs= model(X_batch)\n",
    "        _, predicted= torch.max(outputs, 1)\n",
    "        all_preds.extend(predicted.cpu().numpy())\n",
    "        all_true.extend(y_batch.numpy())\n",
    "\n",
    "print(\"Accuracy:\", accuracy_score(all_true, all_preds))\n",
    "print(\"Classification Report:\\n\", classification_report(all_true, all_preds, target_names= label_encoder.classes_))\n",
    "\n",
    "# Confusion Matrix\n",
    "cm= confusion_matrix(all_true, all_preds)\n",
    "sns.heatmap(cm, annot= True, fmt= 'd', xticklabels= label_encoder.classes_, yticklabels= label_encoder.classes_)\n",
    "plt.title(\"Boosting Confusion Matrix\")\n",
    "plt.xlabel(\"Predicted\")\n",
    "plt.ylabel(\"Actual\")\n",
    "plt.show()"
   ]
  },
  {
   "cell_type": "markdown",
   "id": "0b40164b",
   "metadata": {},
   "source": [
    "----"
   ]
  },
  {
   "cell_type": "markdown",
   "id": "298eefec",
   "metadata": {},
   "source": [
    "# Data Fusion"
   ]
  },
  {
   "cell_type": "markdown",
   "id": "b1d4871d",
   "metadata": {},
   "source": [
    "# Loading the dataset"
   ]
  },
  {
   "cell_type": "code",
   "execution_count": 13,
   "id": "83ec1925",
   "metadata": {},
   "outputs": [],
   "source": [
    "KF_features_df= pd.read_csv('Dataset/KF_features_df.csv')"
   ]
  },
  {
   "cell_type": "markdown",
   "id": "ff9c7348",
   "metadata": {},
   "source": [
    "# Boosting"
   ]
  },
  {
   "cell_type": "code",
   "execution_count": 14,
   "id": "44f0005c",
   "metadata": {},
   "outputs": [],
   "source": [
    "# Step 1: Extract features and labels\n",
    "X= KF_features_df[['F1_sum_vector_magnitude', 'F2_orientation_angle', 'F3_std_magnitude']].values\n",
    "y= KF_features_df['Situation'].values\n",
    "\n",
    "# Step 2: Encode labels ('Fall' → 1, 'Not Fall' → 0)\n",
    "label_encoder= LabelEncoder()\n",
    "y_encoded= label_encoder.fit_transform(y)\n",
    "\n",
    "# Step 3: Split dataset\n",
    "X_train, X_test, y_train, y_test= train_test_split(X, y_encoded, test_size= 0.2, random_state= 48, stratify= y_encoded)"
   ]
  },
  {
   "cell_type": "code",
   "execution_count": 15,
   "id": "901caa9b",
   "metadata": {},
   "outputs": [
    {
     "name": "stdout",
     "output_type": "stream",
     "text": [
      "Done SVM\n"
     ]
    }
   ],
   "source": [
    "# Step 4: Train first model (SVM)\n",
    "X_train1= X_train.copy()\n",
    "X_train1= scaler.fit_transform(X_train1)\n",
    "y_train1= y_train.copy()\n",
    "svm= SVC(kernel= 'rbf', C= 100, gamma= 1, random_state= 48)\n",
    "svm.fit(X_train1, y_train1)\n",
    "y_pred1= svm.predict(X_train1)\n",
    "errors1= (y_pred1 != y_train).astype(int)\n",
    "print('Done SVM')"
   ]
  },
  {
   "cell_type": "code",
   "execution_count": 16,
   "id": "aa8af352",
   "metadata": {},
   "outputs": [],
   "source": [
    "# Step 5: Duplicate misclassified points\n",
    "misclassified_indices= np.where(errors1 == 1)[0]\n",
    "\n",
    "# Concatenate original data with misclassified points\n",
    "X_train2= np.concatenate([X_train, X_train[misclassified_indices]], axis= 0)\n",
    "y_train2= np.concatenate([y_train, y_train[misclassified_indices]], axis= 0)"
   ]
  },
  {
   "cell_type": "code",
   "execution_count": 17,
   "id": "5a77e0fc",
   "metadata": {},
   "outputs": [
    {
     "name": "stdout",
     "output_type": "stream",
     "text": [
      "Done RF\n"
     ]
    }
   ],
   "source": [
    "# Step 6: Train second model (Random Forest)\n",
    "rf= RandomForestClassifier(\n",
    "    n_estimators= 100,\n",
    "    max_depth= 20,\n",
    "    min_samples_split= 5,\n",
    "    min_samples_leaf= 2,\n",
    "    random_state= 48\n",
    ")\n",
    "rf.fit(X_train2, y_train2)\n",
    "y_pred2= rf.predict(X_train)\n",
    "errors2= (y_pred2 != y_train).astype(int)\n",
    "print('Done RF')"
   ]
  },
  {
   "cell_type": "code",
   "execution_count": 18,
   "id": "e623a2d2",
   "metadata": {},
   "outputs": [],
   "source": [
    "# Step 7: Duplicate misclassified points\n",
    "misclassified_indices= np.where(errors2 == 1)[0]\n",
    "\n",
    "# Concatenate original data with misclassified points\n",
    "X_train3= np.concatenate([X_train, X_train[misclassified_indices]], axis= 0)\n",
    "y_train3= np.concatenate([y_train, y_train[misclassified_indices]], axis= 0)"
   ]
  },
  {
   "cell_type": "code",
   "execution_count": 19,
   "id": "4cf15f47",
   "metadata": {},
   "outputs": [
    {
     "name": "stderr",
     "output_type": "stream",
     "text": [
      "f:\\Quera\\Qvenv\\lib\\site-packages\\xgboost\\training.py:183: UserWarning: [19:33:20] WARNING: C:\\actions-runner\\_work\\xgboost\\xgboost\\src\\learner.cc:738: \n",
      "Parameters: { \"use_label_encoder\" } are not used.\n",
      "\n",
      "  bst.update(dtrain, iteration=i, fobj=obj)\n"
     ]
    },
    {
     "name": "stdout",
     "output_type": "stream",
     "text": [
      "Done XGB\n"
     ]
    }
   ],
   "source": [
    "# Step 8: Train third model (XGBoost)\n",
    "xgb= XGBClassifier(\n",
    "    n_estimators= 100,\n",
    "    max_depth= 7,\n",
    "    learning_rate= 0.1,\n",
    "    subsample= 0.8,\n",
    "    objective= 'binary:logistic',\n",
    "    use_label_encoder= False,\n",
    "    eval_metric= 'logloss',\n",
    "    random_state= 48\n",
    ")\n",
    "xgb.fit(X_train3, y_train3)\n",
    "y_pred3= xgb.predict(X_train)\n",
    "errors3= (y_pred3 != y_train).astype(int)\n",
    "print('Done XGB')"
   ]
  },
  {
   "cell_type": "code",
   "execution_count": 20,
   "id": "88f06fff",
   "metadata": {},
   "outputs": [],
   "source": [
    "# Step 9: Duplicate misclassified points\n",
    "misclassified_indices= np.where(errors3 == 1)[0]\n",
    "\n",
    "# Concatenate original data with misclassified points\n",
    "X_train4= np.concatenate([X_train, X_train[misclassified_indices]], axis= 0)\n",
    "y_train4= np.concatenate([y_train, y_train[misclassified_indices]], axis= 0)"
   ]
  },
  {
   "cell_type": "code",
   "execution_count": 21,
   "id": "38a347c4",
   "metadata": {},
   "outputs": [
    {
     "name": "stdout",
     "output_type": "stream",
     "text": [
      "Epoch 1, Loss: 744.5580\n",
      "Epoch 2, Loss: 729.1441\n",
      "Epoch 3, Loss: 721.7218\n",
      "Epoch 4, Loss: 717.2124\n",
      "Epoch 5, Loss: 713.2209\n",
      "Epoch 6, Loss: 710.2698\n",
      "Epoch 7, Loss: 708.0042\n",
      "Epoch 8, Loss: 704.9100\n",
      "Epoch 9, Loss: 702.8568\n",
      "Epoch 10, Loss: 699.8982\n",
      "Epoch 11, Loss: 698.3300\n",
      "Epoch 12, Loss: 697.2512\n",
      "Epoch 13, Loss: 693.8235\n",
      "Epoch 14, Loss: 692.9899\n",
      "Epoch 15, Loss: 691.1383\n",
      "Epoch 16, Loss: 690.5998\n",
      "Epoch 17, Loss: 688.0685\n",
      "Epoch 18, Loss: 687.8667\n",
      "Epoch 19, Loss: 686.4854\n",
      "Epoch 20, Loss: 684.7533\n",
      "Done CNN\n",
      "Done Boosting\n"
     ]
    }
   ],
   "source": [
    "# Step 10: Train fourth model (CNN)\n",
    "# Normalize features\n",
    "scaler= StandardScaler()\n",
    "X_train4= scaler.fit_transform(X_train4)\n",
    "X_test= scaler.transform(X_test)\n",
    "\n",
    "# Reshape to 1D-CNN format: (samples, channels= 1, timesteps= 3)\n",
    "X_train4= X_train4.reshape((X_train4.shape[0], 1, X_train4.shape[1]))\n",
    "X_test= X_test.reshape((X_test.shape[0], 1, X_test.shape[1]))\n",
    "\n",
    "# Dataset and DataLoader\n",
    "train_loader= DataLoader(CNNFeatureDataset(X_train4, y_train4), batch_size= 16, shuffle= True)\n",
    "test_loader= DataLoader(CNNFeatureDataset(X_test, y_test), batch_size= 16)\n",
    "\n",
    "# Train CNN\n",
    "device= torch.device(\"cuda\" if torch.cuda.is_available() else \"cpu\")\n",
    "model= SimpleCNN().to(device)\n",
    "\n",
    "criterion= nn.CrossEntropyLoss()\n",
    "optimizer= torch.optim.Adam(model.parameters(), lr= 0.001)\n",
    "\n",
    "for epoch in range(20):\n",
    "    model.train()\n",
    "    total_loss= 0\n",
    "    for X_batch, y_batch in train_loader:\n",
    "        X_batch, y_batch= X_batch.to(device), y_batch.to(device)\n",
    "        \n",
    "        optimizer.zero_grad()\n",
    "        out= model(X_batch)\n",
    "        loss= criterion(out, y_batch)\n",
    "        loss.backward()\n",
    "        optimizer.step()\n",
    "        total_loss += loss.item()\n",
    "    \n",
    "    print(f\"Epoch {epoch + 1}, Loss: {total_loss:.4f}\")\n",
    "\n",
    "print('Done CNN')\n",
    "print('Done Boosting')"
   ]
  },
  {
   "cell_type": "code",
   "execution_count": 22,
   "id": "6b0f8c7f",
   "metadata": {},
   "outputs": [
    {
     "name": "stdout",
     "output_type": "stream",
     "text": [
      "Accuracy: 0.7525035765379113\n",
      "Classification Report:\n",
      "               precision    recall  f1-score   support\n",
      "\n",
      "        Fall       0.75      0.76      0.75      2097\n",
      "    Not Fall       0.76      0.74      0.75      2097\n",
      "\n",
      "    accuracy                           0.75      4194\n",
      "   macro avg       0.75      0.75      0.75      4194\n",
      "weighted avg       0.75      0.75      0.75      4194\n",
      "\n"
     ]
    },
    {
     "data": {
      "image/png": "[encoded data removed]",
      "text/plain": [
       "<Figure size 640x480 with 2 Axes>"
      ]
     },
     "metadata": {},
     "output_type": "display_data"
    }
   ],
   "source": [
    "# Step 11: Evaluation\n",
    "model.eval()\n",
    "all_preds= []\n",
    "all_true= []\n",
    "\n",
    "with torch.no_grad():\n",
    "    for X_batch, y_batch in test_loader:\n",
    "        X_batch= X_batch.to(device)\n",
    "        outputs= model(X_batch)\n",
    "        _, predicted= torch.max(outputs, 1)\n",
    "        all_preds.extend(predicted.cpu().numpy())\n",
    "        all_true.extend(y_batch.numpy())\n",
    "\n",
    "print(\"Accuracy:\", accuracy_score(all_true, all_preds))\n",
    "print(\"Classification Report:\\n\", classification_report(all_true, all_preds, target_names= label_encoder.classes_))\n",
    "\n",
    "# Confusion Matrix\n",
    "cm= confusion_matrix(all_true, all_preds)\n",
    "sns.heatmap(cm, annot= True, fmt= 'd', xticklabels= label_encoder.classes_, yticklabels= label_encoder.classes_)\n",
    "plt.title(\"Boosting Confusion Matrix\")\n",
    "plt.xlabel(\"Predicted\")\n",
    "plt.ylabel(\"Actual\")\n",
    "plt.show()"
   ]
  }
 ],
 "metadata": {
  "kernelspec": {
   "display_name": "Qvenv",
   "language": "python",
   "name": "qvenv"
  },
  "language_info": {
   "codemirror_mode": {
    "name": "ipython",
    "version": 3
   },
   "file_extension": ".py",
   "mimetype": "text/x-python",
   "name": "python",
   "nbconvert_exporter": "python",
   "pygments_lexer": "ipython3",
   "version": "3.10.0"
  }
 },
 "nbformat": 4,
 "nbformat_minor": 5
}
