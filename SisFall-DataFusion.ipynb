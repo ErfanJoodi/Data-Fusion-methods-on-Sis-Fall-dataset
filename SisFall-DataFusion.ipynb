{
 "cells": [
  {
   "cell_type": "markdown",
   "id": "d8f45cc1",
   "metadata": {},
   "source": [
    "# Hi :)"
   ]
  },
  {
   "cell_type": "markdown",
   "id": "b0041e76",
   "metadata": {},
   "source": [
    "----"
   ]
  },
  {
   "cell_type": "markdown",
   "id": "ee5767c9",
   "metadata": {},
   "source": [
    "# Import libraries"
   ]
  },
  {
   "cell_type": "code",
   "execution_count": 1,
   "id": "b3fa613b",
   "metadata": {},
   "outputs": [],
   "source": [
    "import numpy as np\n",
    "import pandas as pd"
   ]
  },
  {
   "cell_type": "markdown",
   "id": "1df1a4c6",
   "metadata": {},
   "source": [
    "----"
   ]
  },
  {
   "cell_type": "markdown",
   "id": "ed1adfaa",
   "metadata": {},
   "source": [
    "These steps till next seperating line are for Kalman Filter implementation(run if you don't have KalmanFilter-SisFall.csv file)"
   ]
  },
  {
   "cell_type": "markdown",
   "id": "6070739b",
   "metadata": {},
   "source": [
    "----"
   ]
  },
  {
   "cell_type": "markdown",
   "id": "e9686ca9",
   "metadata": {},
   "source": [
    "----"
   ]
  },
  {
   "cell_type": "markdown",
   "id": "f09a92fe",
   "metadata": {},
   "source": [
    "# Loading the dataset"
   ]
  },
  {
   "cell_type": "code",
   "execution_count": 2,
   "id": "70582729",
   "metadata": {},
   "outputs": [],
   "source": [
    "# # Loading the dataset\n",
    "# SisFall_Dataset= pd.read_csv('Dataset/SisFall_dataset.csv')\n",
    "# # Showing 5 random rows\n",
    "# SisFall_Dataset.sample(5, random_state= 48)"
   ]
  },
  {
   "cell_type": "code",
   "execution_count": 3,
   "id": "5c426fc8",
   "metadata": {},
   "outputs": [],
   "source": [
    "# # Making a copy of original dataset to work with\n",
    "# df= SisFall_Dataset.copy()"
   ]
  },
  {
   "cell_type": "code",
   "execution_count": 4,
   "id": "0af15c21",
   "metadata": {},
   "outputs": [],
   "source": [
    "# # Checking the number of rows and columns\n",
    "# df.shape"
   ]
  },
  {
   "cell_type": "markdown",
   "id": "fba1a798",
   "metadata": {},
   "source": [
    "# Kalman Filter"
   ]
  },
  {
   "cell_type": "markdown",
   "id": "a1d3b9db",
   "metadata": {},
   "source": [
    "Kalman Filter Implementation on three axis"
   ]
  },
  {
   "cell_type": "markdown",
   "id": "f44332a9",
   "metadata": {},
   "source": [
    "Initialization"
   ]
  },
  {
   "cell_type": "code",
   "execution_count": 5,
   "id": "0b56fe72",
   "metadata": {},
   "outputs": [],
   "source": [
    "# # Creating a function to implement Kalman Filter\n",
    "# def run_kalman_filter_vector(measurements, R_value, A, H, Q, x0, P0):\n",
    "#     x= x0.copy()\n",
    "#     P= P0.copy()\n",
    "#     estimates= []\n",
    "\n",
    "#     for z in measurements:\n",
    "#         # Predict\n",
    "#         x= A @ x\n",
    "#         P= A @ P @ A.T + Q\n",
    "\n",
    "#         # Update\n",
    "#         y= np.array(z).reshape(-1, 1) - H @ x\n",
    "#         S= H @ P @ H.T + R_value\n",
    "#         K= P @ H.T @ np.linalg.inv(S)\n",
    "#         x= x + K @ y\n",
    "#         P= (np.eye(P.shape[0]) - K @ H) @ P\n",
    "\n",
    "#         estimates.append(x.flatten())  # Store estimated state\n",
    "\n",
    "#     return estimates"
   ]
  },
  {
   "cell_type": "code",
   "execution_count": 6,
   "id": "0a348752",
   "metadata": {},
   "outputs": [],
   "source": [
    "# A= np.eye(3)   # No dynamics for now\n",
    "# Q= np.eye(3) * 0.001\n",
    "# x0= np.zeros((3, 1))\n",
    "# P0= np.eye(3)\n",
    "\n",
    "# # Same H matrix as above\n",
    "# H= np.array([\n",
    "#     [1, 0, 0], [0, 1, 0], [0, 0, 1],  # accel1\n",
    "#     [1, 0, 0], [0, 1, 0], [0, 0, 1],  # accel2\n",
    "#     [1, 0, 0], [0, 1, 0], [0, 0, 1],  # gyro\n",
    "# ])\n",
    "\n",
    "# R= np.diag([0.05] * 6 + [0.1] * 3)  # More trust in accelerometers"
   ]
  },
  {
   "cell_type": "code",
   "execution_count": 7,
   "id": "4670bbd8",
   "metadata": {},
   "outputs": [],
   "source": [
    "# # Getting the measurements a specific order for Kalman Filter implementation\n",
    "# measurements= df[['ADXL345_x', 'ADXL345_y', 'ADXL345_z', 'MMA8451Q_x', 'MMA8451Q_y', 'MMA8451Q_z', 'ITG3200_x', 'ITG3200_y', 'ITG3200_z']].values"
   ]
  },
  {
   "cell_type": "markdown",
   "id": "ecb9c4b0",
   "metadata": {},
   "source": [
    "Kalman Filter Main loop"
   ]
  },
  {
   "cell_type": "code",
   "execution_count": 8,
   "id": "5e75cf2b",
   "metadata": {},
   "outputs": [],
   "source": [
    "# estimates= run_kalman_filter_vector(measurements, R, A, H, Q, x0, P0)"
   ]
  },
  {
   "cell_type": "markdown",
   "id": "a6729011",
   "metadata": {},
   "source": [
    "Adding Kalman Filter data to dataset"
   ]
  },
  {
   "cell_type": "code",
   "execution_count": 9,
   "id": "b7c99ecc",
   "metadata": {},
   "outputs": [],
   "source": [
    "# # Adding Kalman Filter data\n",
    "# df[['x_kalman', 'y_kalman', 'z_kalman']]=np.array(estimates).round(2)\n",
    "# # Fixing the dataset columns\n",
    "# df= df[[col for col in df.columns if col != 'Situation'] + ['Situation']]"
   ]
  },
  {
   "cell_type": "code",
   "execution_count": 10,
   "id": "26966878",
   "metadata": {},
   "outputs": [],
   "source": [
    "# df.head()"
   ]
  },
  {
   "cell_type": "code",
   "execution_count": 11,
   "id": "2c1e1032",
   "metadata": {},
   "outputs": [],
   "source": [
    "# # Saving the dataset\n",
    "# df.to_csv('Dataset/KalmanFilter-SisFall.csv', index= False)"
   ]
  },
  {
   "cell_type": "markdown",
   "id": "ef888908",
   "metadata": {},
   "source": [
    "----"
   ]
  },
  {
   "cell_type": "markdown",
   "id": "b8db1ca2",
   "metadata": {},
   "source": [
    "----"
   ]
  },
  {
   "cell_type": "markdown",
   "id": "f2043a58",
   "metadata": {},
   "source": [
    "If you have KalmanFilter-SisFall.csv file, you can work form here"
   ]
  },
  {
   "cell_type": "markdown",
   "id": "07740396",
   "metadata": {},
   "source": [
    "----"
   ]
  },
  {
   "cell_type": "markdown",
   "id": "75c724a5",
   "metadata": {},
   "source": [
    "# Loading the dataset"
   ]
  },
  {
   "cell_type": "code",
   "execution_count": 2,
   "id": "c6413e4f",
   "metadata": {},
   "outputs": [
    {
     "data": {
      "text/html": [
       "<div>\n",
       "<style scoped>\n",
       "    .dataframe tbody tr th:only-of-type {\n",
       "        vertical-align: middle;\n",
       "    }\n",
       "\n",
       "    .dataframe tbody tr th {\n",
       "        vertical-align: top;\n",
       "    }\n",
       "\n",
       "    .dataframe thead th {\n",
       "        text-align: right;\n",
       "    }\n",
       "</style>\n",
       "<table border=\"1\" class=\"dataframe\">\n",
       "  <thead>\n",
       "    <tr style=\"text-align: right;\">\n",
       "      <th></th>\n",
       "      <th>ADXL345_x</th>\n",
       "      <th>ADXL345_y</th>\n",
       "      <th>ADXL345_z</th>\n",
       "      <th>ITG3200_x</th>\n",
       "      <th>ITG3200_y</th>\n",
       "      <th>ITG3200_z</th>\n",
       "      <th>MMA8451Q_x</th>\n",
       "      <th>MMA8451Q_y</th>\n",
       "      <th>MMA8451Q_z</th>\n",
       "      <th>x_kalman</th>\n",
       "      <th>y_kalman</th>\n",
       "      <th>z_kalman</th>\n",
       "      <th>Situation</th>\n",
       "    </tr>\n",
       "  </thead>\n",
       "  <tbody>\n",
       "    <tr>\n",
       "      <th>636970</th>\n",
       "      <td>3</td>\n",
       "      <td>-237</td>\n",
       "      <td>-149</td>\n",
       "      <td>-120</td>\n",
       "      <td>-122</td>\n",
       "      <td>-96</td>\n",
       "      <td>-78</td>\n",
       "      <td>-881</td>\n",
       "      <td>-437</td>\n",
       "      <td>-52.55</td>\n",
       "      <td>-473.54</td>\n",
       "      <td>-247.41</td>\n",
       "      <td>Fall</td>\n",
       "    </tr>\n",
       "    <tr>\n",
       "      <th>734642</th>\n",
       "      <td>-22</td>\n",
       "      <td>59</td>\n",
       "      <td>-283</td>\n",
       "      <td>-43</td>\n",
       "      <td>18</td>\n",
       "      <td>-4</td>\n",
       "      <td>-181</td>\n",
       "      <td>259</td>\n",
       "      <td>-979</td>\n",
       "      <td>-89.62</td>\n",
       "      <td>131.23</td>\n",
       "      <td>-504.66</td>\n",
       "      <td>Fall</td>\n",
       "    </tr>\n",
       "    <tr>\n",
       "      <th>1069635</th>\n",
       "      <td>37</td>\n",
       "      <td>-348</td>\n",
       "      <td>-103</td>\n",
       "      <td>702</td>\n",
       "      <td>-766</td>\n",
       "      <td>437</td>\n",
       "      <td>133</td>\n",
       "      <td>-1329</td>\n",
       "      <td>-305</td>\n",
       "      <td>74.21</td>\n",
       "      <td>-828.16</td>\n",
       "      <td>-158.67</td>\n",
       "      <td>Not Fall</td>\n",
       "    </tr>\n",
       "    <tr>\n",
       "      <th>793919</th>\n",
       "      <td>279</td>\n",
       "      <td>41</td>\n",
       "      <td>-3</td>\n",
       "      <td>-28</td>\n",
       "      <td>46</td>\n",
       "      <td>-10</td>\n",
       "      <td>982</td>\n",
       "      <td>172</td>\n",
       "      <td>153</td>\n",
       "      <td>495.69</td>\n",
       "      <td>94.04</td>\n",
       "      <td>55.20</td>\n",
       "      <td>Fall</td>\n",
       "    </tr>\n",
       "    <tr>\n",
       "      <th>541529</th>\n",
       "      <td>7</td>\n",
       "      <td>-429</td>\n",
       "      <td>-144</td>\n",
       "      <td>-295</td>\n",
       "      <td>960</td>\n",
       "      <td>240</td>\n",
       "      <td>-64</td>\n",
       "      <td>-1627</td>\n",
       "      <td>-429</td>\n",
       "      <td>31.64</td>\n",
       "      <td>-598.62</td>\n",
       "      <td>-94.81</td>\n",
       "      <td>Fall</td>\n",
       "    </tr>\n",
       "  </tbody>\n",
       "</table>\n",
       "</div>"
      ],
      "text/plain": [
       "         ADXL345_x  ADXL345_y  ADXL345_z  ITG3200_x  ITG3200_y  ITG3200_z  \\\n",
       "636970           3       -237       -149       -120       -122        -96   \n",
       "734642         -22         59       -283        -43         18         -4   \n",
       "1069635         37       -348       -103        702       -766        437   \n",
       "793919         279         41         -3        -28         46        -10   \n",
       "541529           7       -429       -144       -295        960        240   \n",
       "\n",
       "         MMA8451Q_x  MMA8451Q_y  MMA8451Q_z  x_kalman  y_kalman  z_kalman  \\\n",
       "636970          -78        -881        -437    -52.55   -473.54   -247.41   \n",
       "734642         -181         259        -979    -89.62    131.23   -504.66   \n",
       "1069635         133       -1329        -305     74.21   -828.16   -158.67   \n",
       "793919          982         172         153    495.69     94.04     55.20   \n",
       "541529          -64       -1627        -429     31.64   -598.62    -94.81   \n",
       "\n",
       "        Situation  \n",
       "636970       Fall  \n",
       "734642       Fall  \n",
       "1069635  Not Fall  \n",
       "793919       Fall  \n",
       "541529       Fall  "
      ]
     },
     "execution_count": 2,
     "metadata": {},
     "output_type": "execute_result"
    }
   ],
   "source": [
    "# Loading the dataset\n",
    "KalmanFilter_SisFall= pd.read_csv('Dataset/KalmanFilter-SisFall.csv')\n",
    "# Showing 5 random row of dataset\n",
    "KalmanFilter_SisFall.sample(5, random_state= 48)"
   ]
  },
  {
   "cell_type": "code",
   "execution_count": 24,
   "id": "70aea6be",
   "metadata": {},
   "outputs": [],
   "source": [
    "# Making a copy of original dataset to work with\n",
    "df= KalmanFilter_SisFall.copy()"
   ]
  },
  {
   "cell_type": "markdown",
   "id": "9f9a9831",
   "metadata": {},
   "source": [
    "# Feature Calculation"
   ]
  },
  {
   "cell_type": "markdown",
   "id": "9541ae14",
   "metadata": {},
   "source": [
    "ITG data"
   ]
  },
  {
   "cell_type": "code",
   "execution_count": 37,
   "id": "28ddf23e",
   "metadata": {},
   "outputs": [
    {
     "data": {
      "text/html": [
       "<div>\n",
       "<style scoped>\n",
       "    .dataframe tbody tr th:only-of-type {\n",
       "        vertical-align: middle;\n",
       "    }\n",
       "\n",
       "    .dataframe tbody tr th {\n",
       "        vertical-align: top;\n",
       "    }\n",
       "\n",
       "    .dataframe thead th {\n",
       "        text-align: right;\n",
       "    }\n",
       "</style>\n",
       "<table border=\"1\" class=\"dataframe\">\n",
       "  <thead>\n",
       "    <tr style=\"text-align: right;\">\n",
       "      <th></th>\n",
       "      <th>F1_sum_vector_magnitude</th>\n",
       "      <th>F2_orientation_angle</th>\n",
       "      <th>F3_std_magnitude</th>\n",
       "      <th>Situation</th>\n",
       "      <th>window_start_index</th>\n",
       "    </tr>\n",
       "  </thead>\n",
       "  <tbody>\n",
       "    <tr>\n",
       "      <th>1151</th>\n",
       "      <td>500.51</td>\n",
       "      <td>1.62</td>\n",
       "      <td>671.18</td>\n",
       "      <td>Fall</td>\n",
       "      <td>172650</td>\n",
       "    </tr>\n",
       "    <tr>\n",
       "      <th>3842</th>\n",
       "      <td>752.52</td>\n",
       "      <td>1.79</td>\n",
       "      <td>770.46</td>\n",
       "      <td>Fall</td>\n",
       "      <td>576300</td>\n",
       "    </tr>\n",
       "    <tr>\n",
       "      <th>5832</th>\n",
       "      <td>63.63</td>\n",
       "      <td>1.74</td>\n",
       "      <td>26.27</td>\n",
       "      <td>Fall</td>\n",
       "      <td>874800</td>\n",
       "    </tr>\n",
       "    <tr>\n",
       "      <th>10870</th>\n",
       "      <td>1112.90</td>\n",
       "      <td>1.51</td>\n",
       "      <td>1174.01</td>\n",
       "      <td>Not Fall</td>\n",
       "      <td>1630650</td>\n",
       "    </tr>\n",
       "    <tr>\n",
       "      <th>5683</th>\n",
       "      <td>372.60</td>\n",
       "      <td>1.63</td>\n",
       "      <td>339.63</td>\n",
       "      <td>Fall</td>\n",
       "      <td>852450</td>\n",
       "    </tr>\n",
       "  </tbody>\n",
       "</table>\n",
       "</div>"
      ],
      "text/plain": [
       "       F1_sum_vector_magnitude  F2_orientation_angle  F3_std_magnitude  \\\n",
       "1151                    500.51                  1.62            671.18   \n",
       "3842                    752.52                  1.79            770.46   \n",
       "5832                     63.63                  1.74             26.27   \n",
       "10870                  1112.90                  1.51           1174.01   \n",
       "5683                    372.60                  1.63            339.63   \n",
       "\n",
       "      Situation  window_start_index  \n",
       "1151       Fall              172650  \n",
       "3842       Fall              576300  \n",
       "5832       Fall              874800  \n",
       "10870  Not Fall             1630650  \n",
       "5683       Fall              852450  "
      ]
     },
     "execution_count": 37,
     "metadata": {},
     "output_type": "execute_result"
    }
   ],
   "source": [
    "window_size= 200\n",
    "overlap= 50\n",
    "stride= window_size - overlap\n",
    "\n",
    "features= []\n",
    "\n",
    "# Get signals and labels\n",
    "a_x= df['ITG3200_x'].values\n",
    "a_y= df['ITG3200_y'].values\n",
    "a_z= df['ITG3200_z'].values\n",
    "situation= df['Situation'].values\n",
    "\n",
    "num_samples= len(df)\n",
    "num_windows= (num_samples - window_size) // stride + 1  # excludes partial windows\n",
    "\n",
    "for i in range(num_windows):\n",
    "    start= i * stride\n",
    "    end= start + window_size\n",
    "\n",
    "    # Check if full window fits\n",
    "    if end > num_samples:\n",
    "        break\n",
    "\n",
    "    # Extract window data\n",
    "    window_ax= a_x[start : end]\n",
    "    window_ay= a_y[start : end]\n",
    "    window_az= a_z[start : end]\n",
    "    window_situation= situation[start : end]\n",
    "\n",
    "    # --- Condition 1: Ensure situation is consistent in window ---\n",
    "    if len(set(window_situation)) > 1:\n",
    "        continue  # skip this window\n",
    "\n",
    "    # --- F1: Sum vector magnitude (RMS) ---\n",
    "    magnitudes= np.sqrt(window_ax**2 + window_ay**2 + window_az**2)\n",
    "    F1= np.mean(magnitudes).round(2)\n",
    "\n",
    "    # --- F2: Orientation angle ---\n",
    "    angles= np.arctan2(np.sqrt(window_ax**2 + window_az**2), -window_ay)\n",
    "    F2= np.mean(angles).round(2)\n",
    "\n",
    "    # --- F3: Std deviation magnitude ---\n",
    "    std_x= np.std(window_ax)\n",
    "    std_y= np.std(window_ay)\n",
    "    std_z= np.std(window_az)\n",
    "    F3= np.sqrt(std_x**2 + std_y**2 + std_z**2).round(2)\n",
    "\n",
    "    # Get window label (same for all rows in valid window)\n",
    "    label= window_situation[0]\n",
    "\n",
    "    # Store feature and label\n",
    "    features.append([F1, F2, F3, label, start])\n",
    "\n",
    "# Convert to DataFrame\n",
    "ITG_features_df= pd.DataFrame(features, columns= [\n",
    "    'F1_sum_vector_magnitude',\n",
    "    'F2_orientation_angle',\n",
    "    'F3_std_magnitude',\n",
    "    'Situation',\n",
    "    'window_start_index'\n",
    "])\n",
    "\n",
    "ITG_features_df.sample(5, random_state= 48)"
   ]
  },
  {
   "cell_type": "markdown",
   "id": "ef3801cc",
   "metadata": {},
   "source": [
    "Kalman Filter data"
   ]
  },
  {
   "cell_type": "code",
   "execution_count": 36,
   "id": "b479b18d",
   "metadata": {},
   "outputs": [
    {
     "data": {
      "text/html": [
       "<div>\n",
       "<style scoped>\n",
       "    .dataframe tbody tr th:only-of-type {\n",
       "        vertical-align: middle;\n",
       "    }\n",
       "\n",
       "    .dataframe tbody tr th {\n",
       "        vertical-align: top;\n",
       "    }\n",
       "\n",
       "    .dataframe thead th {\n",
       "        text-align: right;\n",
       "    }\n",
       "</style>\n",
       "<table border=\"1\" class=\"dataframe\">\n",
       "  <thead>\n",
       "    <tr style=\"text-align: right;\">\n",
       "      <th></th>\n",
       "      <th>F1_sum_vector_magnitude</th>\n",
       "      <th>F2_orientation_angle</th>\n",
       "      <th>F3_std_magnitude</th>\n",
       "      <th>Situation</th>\n",
       "      <th>window_start_index</th>\n",
       "    </tr>\n",
       "  </thead>\n",
       "  <tbody>\n",
       "    <tr>\n",
       "      <th>1151</th>\n",
       "      <td>510.98</td>\n",
       "      <td>1.34</td>\n",
       "      <td>229.42</td>\n",
       "      <td>Fall</td>\n",
       "      <td>172650</td>\n",
       "    </tr>\n",
       "    <tr>\n",
       "      <th>3842</th>\n",
       "      <td>493.15</td>\n",
       "      <td>0.47</td>\n",
       "      <td>212.40</td>\n",
       "      <td>Fall</td>\n",
       "      <td>576300</td>\n",
       "    </tr>\n",
       "    <tr>\n",
       "      <th>5832</th>\n",
       "      <td>497.97</td>\n",
       "      <td>1.76</td>\n",
       "      <td>7.15</td>\n",
       "      <td>Fall</td>\n",
       "      <td>874800</td>\n",
       "    </tr>\n",
       "    <tr>\n",
       "      <th>10870</th>\n",
       "      <td>566.76</td>\n",
       "      <td>0.45</td>\n",
       "      <td>304.52</td>\n",
       "      <td>Not Fall</td>\n",
       "      <td>1630650</td>\n",
       "    </tr>\n",
       "    <tr>\n",
       "      <th>5683</th>\n",
       "      <td>502.33</td>\n",
       "      <td>0.34</td>\n",
       "      <td>76.27</td>\n",
       "      <td>Fall</td>\n",
       "      <td>852450</td>\n",
       "    </tr>\n",
       "  </tbody>\n",
       "</table>\n",
       "</div>"
      ],
      "text/plain": [
       "       F1_sum_vector_magnitude  F2_orientation_angle  F3_std_magnitude  \\\n",
       "1151                    510.98                  1.34            229.42   \n",
       "3842                    493.15                  0.47            212.40   \n",
       "5832                    497.97                  1.76              7.15   \n",
       "10870                   566.76                  0.45            304.52   \n",
       "5683                    502.33                  0.34             76.27   \n",
       "\n",
       "      Situation  window_start_index  \n",
       "1151       Fall              172650  \n",
       "3842       Fall              576300  \n",
       "5832       Fall              874800  \n",
       "10870  Not Fall             1630650  \n",
       "5683       Fall              852450  "
      ]
     },
     "execution_count": 36,
     "metadata": {},
     "output_type": "execute_result"
    }
   ],
   "source": [
    "window_size= 200\n",
    "overlap= 50\n",
    "stride= window_size - overlap\n",
    "\n",
    "features= []\n",
    "\n",
    "# Get signals and labels\n",
    "a_x= df['x_kalman'].values\n",
    "a_y= df['y_kalman'].values\n",
    "a_z= df['z_kalman'].values\n",
    "situation= df['Situation'].values\n",
    "\n",
    "num_samples= len(df)\n",
    "num_windows= (num_samples - window_size) // stride + 1  # excludes partial windows\n",
    "\n",
    "for i in range(num_windows):\n",
    "    start= i * stride\n",
    "    end= start + window_size\n",
    "\n",
    "    # Check if full window fits\n",
    "    if end > num_samples:\n",
    "        break\n",
    "\n",
    "    # Extract window data\n",
    "    window_ax= a_x[start : end]\n",
    "    window_ay= a_y[start : end]\n",
    "    window_az= a_z[start : end]\n",
    "    window_situation= situation[start : end]\n",
    "\n",
    "    # --- Condition 1: Ensure situation is consistent in window ---\n",
    "    if len(set(window_situation)) > 1:\n",
    "        continue  # skip this window\n",
    "\n",
    "    # --- F1: Sum vector magnitude (RMS) ---\n",
    "    magnitudes= np.sqrt(window_ax**2 + window_ay**2 + window_az**2)\n",
    "    F1= np.mean(magnitudes).round(2)\n",
    "\n",
    "    # --- F2: Orientation angle ---\n",
    "    angles= np.arctan2(np.sqrt(window_ax**2 + window_az**2), -window_ay)\n",
    "    F2= np.mean(angles).round(2)\n",
    "\n",
    "    # --- F3: Std deviation magnitude ---\n",
    "    std_x= np.std(window_ax)\n",
    "    std_y= np.std(window_ay)\n",
    "    std_z= np.std(window_az)\n",
    "    F3= np.sqrt(std_x**2 + std_y**2 + std_z**2).round(2)\n",
    "\n",
    "    # Get window label (same for all rows in valid window)\n",
    "    label= window_situation[0]\n",
    "\n",
    "    # Store feature and label\n",
    "    features.append([F1, F2, F3, label, start])\n",
    "\n",
    "# Convert to DataFrame\n",
    "KF_features_df= pd.DataFrame(features, columns= [\n",
    "    'F1_sum_vector_magnitude',\n",
    "    'F2_orientation_angle',\n",
    "    'F3_std_magnitude',\n",
    "    'Situation',\n",
    "    'window_start_index'\n",
    "])\n",
    "\n",
    "KF_features_df.sample(5, random_state= 48)"
   ]
  }
 ],
 "metadata": {
  "kernelspec": {
   "display_name": "Qvenv",
   "language": "python",
   "name": "qvenv"
  },
  "language_info": {
   "codemirror_mode": {
    "name": "ipython",
    "version": 3
   },
   "file_extension": ".py",
   "mimetype": "text/x-python",
   "name": "python",
   "nbconvert_exporter": "python",
   "pygments_lexer": "ipython3",
   "version": "3.10.0"
  }
 },
 "nbformat": 4,
 "nbformat_minor": 5
}
