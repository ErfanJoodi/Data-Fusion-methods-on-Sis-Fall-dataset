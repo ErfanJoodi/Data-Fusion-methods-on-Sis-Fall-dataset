{
 "cells": [
  {
   "cell_type": "markdown",
   "id": "d8f45cc1",
   "metadata": {},
   "source": [
    "# Hi :)"
   ]
  },
  {
   "cell_type": "markdown",
   "id": "b0041e76",
   "metadata": {},
   "source": [
    "----"
   ]
  },
  {
   "cell_type": "markdown",
   "id": "ee5767c9",
   "metadata": {},
   "source": [
    "# Import libraries"
   ]
  },
  {
   "cell_type": "code",
   "execution_count": 13,
   "id": "b3fa613b",
   "metadata": {},
   "outputs": [],
   "source": [
    "import numpy as np\n",
    "import pandas as pd"
   ]
  },
  {
   "cell_type": "markdown",
   "id": "f09a92fe",
   "metadata": {},
   "source": [
    "# Loading the dataset"
   ]
  },
  {
   "cell_type": "code",
   "execution_count": 6,
   "id": "70582729",
   "metadata": {},
   "outputs": [
    {
     "data": {
      "text/html": [
       "<div>\n",
       "<style scoped>\n",
       "    .dataframe tbody tr th:only-of-type {\n",
       "        vertical-align: middle;\n",
       "    }\n",
       "\n",
       "    .dataframe tbody tr th {\n",
       "        vertical-align: top;\n",
       "    }\n",
       "\n",
       "    .dataframe thead th {\n",
       "        text-align: right;\n",
       "    }\n",
       "</style>\n",
       "<table border=\"1\" class=\"dataframe\">\n",
       "  <thead>\n",
       "    <tr style=\"text-align: right;\">\n",
       "      <th></th>\n",
       "      <th>ADXL345_x</th>\n",
       "      <th>ADXL345_y</th>\n",
       "      <th>ADXL345_z</th>\n",
       "      <th>ITG3200_x</th>\n",
       "      <th>ITG3200_y</th>\n",
       "      <th>ITG3200_z</th>\n",
       "      <th>MMA8451Q_x</th>\n",
       "      <th>MMA8451Q_y</th>\n",
       "      <th>MMA8451Q_z</th>\n",
       "      <th>Situation</th>\n",
       "    </tr>\n",
       "  </thead>\n",
       "  <tbody>\n",
       "    <tr>\n",
       "      <th>636970</th>\n",
       "      <td>3</td>\n",
       "      <td>-237</td>\n",
       "      <td>-149</td>\n",
       "      <td>-120</td>\n",
       "      <td>-122</td>\n",
       "      <td>-96</td>\n",
       "      <td>-78</td>\n",
       "      <td>-881</td>\n",
       "      <td>-437</td>\n",
       "      <td>Fall</td>\n",
       "    </tr>\n",
       "    <tr>\n",
       "      <th>734642</th>\n",
       "      <td>-22</td>\n",
       "      <td>59</td>\n",
       "      <td>-283</td>\n",
       "      <td>-43</td>\n",
       "      <td>18</td>\n",
       "      <td>-4</td>\n",
       "      <td>-181</td>\n",
       "      <td>259</td>\n",
       "      <td>-979</td>\n",
       "      <td>Fall</td>\n",
       "    </tr>\n",
       "    <tr>\n",
       "      <th>1069635</th>\n",
       "      <td>37</td>\n",
       "      <td>-348</td>\n",
       "      <td>-103</td>\n",
       "      <td>702</td>\n",
       "      <td>-766</td>\n",
       "      <td>437</td>\n",
       "      <td>133</td>\n",
       "      <td>-1329</td>\n",
       "      <td>-305</td>\n",
       "      <td>Not Fall</td>\n",
       "    </tr>\n",
       "    <tr>\n",
       "      <th>793919</th>\n",
       "      <td>279</td>\n",
       "      <td>41</td>\n",
       "      <td>-3</td>\n",
       "      <td>-28</td>\n",
       "      <td>46</td>\n",
       "      <td>-10</td>\n",
       "      <td>982</td>\n",
       "      <td>172</td>\n",
       "      <td>153</td>\n",
       "      <td>Fall</td>\n",
       "    </tr>\n",
       "    <tr>\n",
       "      <th>541529</th>\n",
       "      <td>7</td>\n",
       "      <td>-429</td>\n",
       "      <td>-144</td>\n",
       "      <td>-295</td>\n",
       "      <td>960</td>\n",
       "      <td>240</td>\n",
       "      <td>-64</td>\n",
       "      <td>-1627</td>\n",
       "      <td>-429</td>\n",
       "      <td>Fall</td>\n",
       "    </tr>\n",
       "  </tbody>\n",
       "</table>\n",
       "</div>"
      ],
      "text/plain": [
       "         ADXL345_x  ADXL345_y  ADXL345_z  ITG3200_x  ITG3200_y  ITG3200_z  \\\n",
       "636970           3       -237       -149       -120       -122        -96   \n",
       "734642         -22         59       -283        -43         18         -4   \n",
       "1069635         37       -348       -103        702       -766        437   \n",
       "793919         279         41         -3        -28         46        -10   \n",
       "541529           7       -429       -144       -295        960        240   \n",
       "\n",
       "         MMA8451Q_x  MMA8451Q_y  MMA8451Q_z Situation  \n",
       "636970          -78        -881        -437      Fall  \n",
       "734642         -181         259        -979      Fall  \n",
       "1069635         133       -1329        -305  Not Fall  \n",
       "793919          982         172         153      Fall  \n",
       "541529          -64       -1627        -429      Fall  "
      ]
     },
     "execution_count": 6,
     "metadata": {},
     "output_type": "execute_result"
    }
   ],
   "source": [
    "# Loading the dataset\n",
    "SisFall_Dataset= pd.read_csv('Dataset/SisFall_dataset.csv')\n",
    "# Showing 5 random rows\n",
    "SisFall_Dataset.sample(5, random_state= 48)"
   ]
  },
  {
   "cell_type": "code",
   "execution_count": 7,
   "id": "5c426fc8",
   "metadata": {},
   "outputs": [],
   "source": [
    "# Making a copy of original dataset to work with\n",
    "df= SisFall_Dataset.copy()"
   ]
  },
  {
   "cell_type": "code",
   "execution_count": 9,
   "id": "0af15c21",
   "metadata": {},
   "outputs": [
    {
     "data": {
      "text/plain": [
       "(2097150, 10)"
      ]
     },
     "execution_count": 9,
     "metadata": {},
     "output_type": "execute_result"
    }
   ],
   "source": [
    "# Checking the number of rows and columns\n",
    "df.shape"
   ]
  },
  {
   "cell_type": "code",
   "execution_count": 11,
   "id": "07ddde26",
   "metadata": {},
   "outputs": [
    {
     "data": {
      "text/plain": [
       "13981.0"
      ]
     },
     "execution_count": 11,
     "metadata": {},
     "output_type": "execute_result"
    }
   ],
   "source": [
    "df.shape[0] / 150"
   ]
  },
  {
   "cell_type": "code",
   "execution_count": 12,
   "id": "7dd8a6f0",
   "metadata": {},
   "outputs": [
    {
     "data": {
      "text/plain": [
       "Index(['ADXL345_x', 'ADXL345_y', 'ADXL345_z', 'ITG3200_x', 'ITG3200_y',\n",
       "       'ITG3200_z', 'MMA8451Q_x', 'MMA8451Q_y', 'MMA8451Q_z', 'Situation'],\n",
       "      dtype='object')"
      ]
     },
     "execution_count": 12,
     "metadata": {},
     "output_type": "execute_result"
    }
   ],
   "source": [
    "df.columns"
   ]
  },
  {
   "cell_type": "markdown",
   "id": "fba1a798",
   "metadata": {},
   "source": [
    "# Kalman Filter"
   ]
  },
  {
   "cell_type": "code",
   "execution_count": 50,
   "id": "8e1e5e1b",
   "metadata": {},
   "outputs": [],
   "source": [
    "def run_kalman_filter(measurements, R_value, A, H, Q, x0, P0):\n",
    "    x= x0.copy()\n",
    "    P= P0.copy()\n",
    "    estimates= []\n",
    "\n",
    "    for z in measurements:\n",
    "        # Predict\n",
    "        x= A @ x\n",
    "        P= A @ P @ A.T + Q\n",
    "\n",
    "        # Update\n",
    "        y= np.array(z).reshape(-1, 1) - H @ x\n",
    "        S= H @ P @ H.T + R_value\n",
    "        K= P @ H.T @ np.linalg.inv(S)\n",
    "        x= x + K @ y\n",
    "        P= (np.eye(P.shape[0]) - K @ H) @ P\n",
    "\n",
    "        estimates.append(x[0, 0])  # Store estimated state\n",
    "\n",
    "    return estimates"
   ]
  },
  {
   "cell_type": "code",
   "execution_count": 19,
   "id": "91d71787",
   "metadata": {},
   "outputs": [],
   "source": [
    "A= np.array([[1.0]])           # Identity if you're not modeling dynamics\n",
    "H= np.array([[1.0], [1.0], [1.0]])  # Each sensor observes the same state\n",
    "Q= np.array([[0.001]])         # Process noise\n",
    "R= np.diag([0.05, 0.05, 0.1])  # Sensor noise: gyro might be less reliable\n",
    "x0= np.array([[0.0]])          # Initial state\n",
    "P0= np.array([[1.0]])          # Initial covariance"
   ]
  },
  {
   "cell_type": "code",
   "execution_count": 24,
   "id": "dbcf542f",
   "metadata": {},
   "outputs": [],
   "source": [
    "measurements= df[['ADXL345_x', 'ITG3200_x', 'MMA8451Q_x']].values"
   ]
  },
  {
   "cell_type": "code",
   "execution_count": 51,
   "id": "682c863a",
   "metadata": {},
   "outputs": [],
   "source": [
    "estimates= run_kalman_filter(measurements, R, A, H, Q, x0, P0)"
   ]
  },
  {
   "cell_type": "code",
   "execution_count": 53,
   "id": "5f1e7d47",
   "metadata": {},
   "outputs": [
    {
     "data": {
      "text/plain": [
       "2097150"
      ]
     },
     "execution_count": 53,
     "metadata": {},
     "output_type": "execute_result"
    }
   ],
   "source": [
    "len(estimates)"
   ]
  }
 ],
 "metadata": {
  "kernelspec": {
   "display_name": "Qvenv",
   "language": "python",
   "name": "qvenv"
  },
  "language_info": {
   "codemirror_mode": {
    "name": "ipython",
    "version": 3
   },
   "file_extension": ".py",
   "mimetype": "text/x-python",
   "name": "python",
   "nbconvert_exporter": "python",
   "pygments_lexer": "ipython3",
   "version": "3.10.0"
  }
 },
 "nbformat": 4,
 "nbformat_minor": 5
}
