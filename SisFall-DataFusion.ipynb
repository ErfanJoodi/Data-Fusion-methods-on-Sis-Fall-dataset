{
 "cells": [
  {
   "cell_type": "markdown",
   "id": "d8f45cc1",
   "metadata": {},
   "source": [
    "# Hi :)"
   ]
  },
  {
   "cell_type": "markdown",
   "id": "b0041e76",
   "metadata": {},
   "source": [
    "----"
   ]
  },
  {
   "cell_type": "markdown",
   "id": "ee5767c9",
   "metadata": {},
   "source": [
    "# Import libraries"
   ]
  },
  {
   "cell_type": "code",
   "execution_count": 1,
   "id": "b3fa613b",
   "metadata": {},
   "outputs": [],
   "source": [
    "import numpy as np\n",
    "import pandas as pd"
   ]
  },
  {
   "cell_type": "markdown",
   "id": "1df1a4c6",
   "metadata": {},
   "source": [
    "----"
   ]
  },
  {
   "cell_type": "markdown",
   "id": "ed1adfaa",
   "metadata": {},
   "source": [
    "These steps till next seperating line are for Kalman Filter implementation(run if you don't have KalmanFilter-SisFall.csv file)"
   ]
  },
  {
   "cell_type": "markdown",
   "id": "6070739b",
   "metadata": {},
   "source": [
    "----"
   ]
  },
  {
   "cell_type": "markdown",
   "id": "e9686ca9",
   "metadata": {},
   "source": [
    "----"
   ]
  },
  {
   "cell_type": "markdown",
   "id": "f09a92fe",
   "metadata": {},
   "source": [
    "# Loading the dataset"
   ]
  },
  {
   "cell_type": "code",
   "execution_count": 2,
   "id": "70582729",
   "metadata": {},
   "outputs": [],
   "source": [
    "# # Loading the dataset\n",
    "# SisFall_Dataset= pd.read_csv('Dataset/SisFall_dataset.csv')\n",
    "# # Showing 5 random rows\n",
    "# SisFall_Dataset.sample(5, random_state= 48)"
   ]
  },
  {
   "cell_type": "code",
   "execution_count": 3,
   "id": "5c426fc8",
   "metadata": {},
   "outputs": [],
   "source": [
    "# # Making a copy of original dataset to work with\n",
    "# df= SisFall_Dataset.copy()"
   ]
  },
  {
   "cell_type": "code",
   "execution_count": 4,
   "id": "0af15c21",
   "metadata": {},
   "outputs": [],
   "source": [
    "# # Checking the number of rows and columns\n",
    "# df.shape"
   ]
  },
  {
   "cell_type": "markdown",
   "id": "fba1a798",
   "metadata": {},
   "source": [
    "# Kalman Filter"
   ]
  },
  {
   "cell_type": "markdown",
   "id": "a1d3b9db",
   "metadata": {},
   "source": [
    "Kalman Filter Implementation on three axis"
   ]
  },
  {
   "cell_type": "markdown",
   "id": "f44332a9",
   "metadata": {},
   "source": [
    "Initialization"
   ]
  },
  {
   "cell_type": "code",
   "execution_count": 5,
   "id": "0b56fe72",
   "metadata": {},
   "outputs": [],
   "source": [
    "# # Creating a function to implement Kalman Filter\n",
    "# def run_kalman_filter_vector(measurements, R_value, A, H, Q, x0, P0):\n",
    "#     x= x0.copy()\n",
    "#     P= P0.copy()\n",
    "#     estimates= []\n",
    "\n",
    "#     for z in measurements:\n",
    "#         # Predict\n",
    "#         x= A @ x\n",
    "#         P= A @ P @ A.T + Q\n",
    "\n",
    "#         # Update\n",
    "#         y= np.array(z).reshape(-1, 1) - H @ x\n",
    "#         S= H @ P @ H.T + R_value\n",
    "#         K= P @ H.T @ np.linalg.inv(S)\n",
    "#         x= x + K @ y\n",
    "#         P= (np.eye(P.shape[0]) - K @ H) @ P\n",
    "\n",
    "#         estimates.append(x.flatten())  # Store estimated state\n",
    "\n",
    "#     return estimates"
   ]
  },
  {
   "cell_type": "code",
   "execution_count": 6,
   "id": "0a348752",
   "metadata": {},
   "outputs": [],
   "source": [
    "# A= np.eye(3)   # No dynamics for now\n",
    "# Q= np.eye(3) * 0.001\n",
    "# x0= np.zeros((3, 1))\n",
    "# P0= np.eye(3)\n",
    "\n",
    "# # Same H matrix as above\n",
    "# H= np.array([\n",
    "#     [1, 0, 0], [0, 1, 0], [0, 0, 1],  # accel1\n",
    "#     [1, 0, 0], [0, 1, 0], [0, 0, 1],  # accel2\n",
    "#     [1, 0, 0], [0, 1, 0], [0, 0, 1],  # gyro\n",
    "# ])\n",
    "\n",
    "# R= np.diag([0.05] * 6 + [0.1] * 3)  # More trust in accelerometers"
   ]
  },
  {
   "cell_type": "code",
   "execution_count": 7,
   "id": "4670bbd8",
   "metadata": {},
   "outputs": [],
   "source": [
    "# # Getting the measurements a specific order for Kalman Filter implementation\n",
    "# measurements= df[['ADXL345_x', 'ADXL345_y', 'ADXL345_z', 'MMA8451Q_x', 'MMA8451Q_y', 'MMA8451Q_z', 'ITG3200_x', 'ITG3200_y', 'ITG3200_z']].values"
   ]
  },
  {
   "cell_type": "markdown",
   "id": "ecb9c4b0",
   "metadata": {},
   "source": [
    "Kalman Filter Main loop"
   ]
  },
  {
   "cell_type": "code",
   "execution_count": 8,
   "id": "5e75cf2b",
   "metadata": {},
   "outputs": [],
   "source": [
    "# estimates= run_kalman_filter_vector(measurements, R, A, H, Q, x0, P0)"
   ]
  },
  {
   "cell_type": "markdown",
   "id": "a6729011",
   "metadata": {},
   "source": [
    "Adding Kalman Filter data to dataset"
   ]
  },
  {
   "cell_type": "code",
   "execution_count": 9,
   "id": "b7c99ecc",
   "metadata": {},
   "outputs": [],
   "source": [
    "# # Adding Kalman Filter data\n",
    "# df[['x_kalman', 'y_kalman', 'z_kalman']]=np.array(estimates).round(2)\n",
    "# # Fixing the dataset columns\n",
    "# df= df[[col for col in df.columns if col != 'Situation'] + ['Situation']]"
   ]
  },
  {
   "cell_type": "code",
   "execution_count": 10,
   "id": "26966878",
   "metadata": {},
   "outputs": [],
   "source": [
    "# df.head()"
   ]
  },
  {
   "cell_type": "code",
   "execution_count": 11,
   "id": "2c1e1032",
   "metadata": {},
   "outputs": [],
   "source": [
    "# # Saving the dataset\n",
    "# df.to_csv('Dataset/KalmanFilter-SisFall.csv', index= False)"
   ]
  },
  {
   "cell_type": "markdown",
   "id": "ef888908",
   "metadata": {},
   "source": [
    "----"
   ]
  },
  {
   "cell_type": "markdown",
   "id": "b8db1ca2",
   "metadata": {},
   "source": [
    "----"
   ]
  },
  {
   "cell_type": "markdown",
   "id": "f2043a58",
   "metadata": {},
   "source": [
    "If you have KalmanFilter-SisFall.csv file, you can work form here"
   ]
  },
  {
   "cell_type": "markdown",
   "id": "07740396",
   "metadata": {},
   "source": [
    "----"
   ]
  },
  {
   "cell_type": "markdown",
   "id": "75c724a5",
   "metadata": {},
   "source": [
    "# Loading the dataset"
   ]
  },
  {
   "cell_type": "code",
   "execution_count": 12,
   "id": "c6413e4f",
   "metadata": {},
   "outputs": [
    {
     "data": {
      "text/html": [
       "<div>\n",
       "<style scoped>\n",
       "    .dataframe tbody tr th:only-of-type {\n",
       "        vertical-align: middle;\n",
       "    }\n",
       "\n",
       "    .dataframe tbody tr th {\n",
       "        vertical-align: top;\n",
       "    }\n",
       "\n",
       "    .dataframe thead th {\n",
       "        text-align: right;\n",
       "    }\n",
       "</style>\n",
       "<table border=\"1\" class=\"dataframe\">\n",
       "  <thead>\n",
       "    <tr style=\"text-align: right;\">\n",
       "      <th></th>\n",
       "      <th>ADXL345_x</th>\n",
       "      <th>ADXL345_y</th>\n",
       "      <th>ADXL345_z</th>\n",
       "      <th>ITG3200_x</th>\n",
       "      <th>ITG3200_y</th>\n",
       "      <th>ITG3200_z</th>\n",
       "      <th>MMA8451Q_x</th>\n",
       "      <th>MMA8451Q_y</th>\n",
       "      <th>MMA8451Q_z</th>\n",
       "      <th>x_kalman</th>\n",
       "      <th>y_kalman</th>\n",
       "      <th>z_kalman</th>\n",
       "      <th>Situation</th>\n",
       "    </tr>\n",
       "  </thead>\n",
       "  <tbody>\n",
       "    <tr>\n",
       "      <th>636970</th>\n",
       "      <td>3</td>\n",
       "      <td>-237</td>\n",
       "      <td>-149</td>\n",
       "      <td>-120</td>\n",
       "      <td>-122</td>\n",
       "      <td>-96</td>\n",
       "      <td>-78</td>\n",
       "      <td>-881</td>\n",
       "      <td>-437</td>\n",
       "      <td>-52.55</td>\n",
       "      <td>-473.54</td>\n",
       "      <td>-247.41</td>\n",
       "      <td>Fall</td>\n",
       "    </tr>\n",
       "    <tr>\n",
       "      <th>734642</th>\n",
       "      <td>-22</td>\n",
       "      <td>59</td>\n",
       "      <td>-283</td>\n",
       "      <td>-43</td>\n",
       "      <td>18</td>\n",
       "      <td>-4</td>\n",
       "      <td>-181</td>\n",
       "      <td>259</td>\n",
       "      <td>-979</td>\n",
       "      <td>-89.62</td>\n",
       "      <td>131.23</td>\n",
       "      <td>-504.66</td>\n",
       "      <td>Fall</td>\n",
       "    </tr>\n",
       "    <tr>\n",
       "      <th>1069635</th>\n",
       "      <td>37</td>\n",
       "      <td>-348</td>\n",
       "      <td>-103</td>\n",
       "      <td>702</td>\n",
       "      <td>-766</td>\n",
       "      <td>437</td>\n",
       "      <td>133</td>\n",
       "      <td>-1329</td>\n",
       "      <td>-305</td>\n",
       "      <td>74.21</td>\n",
       "      <td>-828.16</td>\n",
       "      <td>-158.67</td>\n",
       "      <td>Not Fall</td>\n",
       "    </tr>\n",
       "    <tr>\n",
       "      <th>793919</th>\n",
       "      <td>279</td>\n",
       "      <td>41</td>\n",
       "      <td>-3</td>\n",
       "      <td>-28</td>\n",
       "      <td>46</td>\n",
       "      <td>-10</td>\n",
       "      <td>982</td>\n",
       "      <td>172</td>\n",
       "      <td>153</td>\n",
       "      <td>495.69</td>\n",
       "      <td>94.04</td>\n",
       "      <td>55.20</td>\n",
       "      <td>Fall</td>\n",
       "    </tr>\n",
       "    <tr>\n",
       "      <th>541529</th>\n",
       "      <td>7</td>\n",
       "      <td>-429</td>\n",
       "      <td>-144</td>\n",
       "      <td>-295</td>\n",
       "      <td>960</td>\n",
       "      <td>240</td>\n",
       "      <td>-64</td>\n",
       "      <td>-1627</td>\n",
       "      <td>-429</td>\n",
       "      <td>31.64</td>\n",
       "      <td>-598.62</td>\n",
       "      <td>-94.81</td>\n",
       "      <td>Fall</td>\n",
       "    </tr>\n",
       "  </tbody>\n",
       "</table>\n",
       "</div>"
      ],
      "text/plain": [
       "         ADXL345_x  ADXL345_y  ADXL345_z  ITG3200_x  ITG3200_y  ITG3200_z  \\\n",
       "636970           3       -237       -149       -120       -122        -96   \n",
       "734642         -22         59       -283        -43         18         -4   \n",
       "1069635         37       -348       -103        702       -766        437   \n",
       "793919         279         41         -3        -28         46        -10   \n",
       "541529           7       -429       -144       -295        960        240   \n",
       "\n",
       "         MMA8451Q_x  MMA8451Q_y  MMA8451Q_z  x_kalman  y_kalman  z_kalman  \\\n",
       "636970          -78        -881        -437    -52.55   -473.54   -247.41   \n",
       "734642         -181         259        -979    -89.62    131.23   -504.66   \n",
       "1069635         133       -1329        -305     74.21   -828.16   -158.67   \n",
       "793919          982         172         153    495.69     94.04     55.20   \n",
       "541529          -64       -1627        -429     31.64   -598.62    -94.81   \n",
       "\n",
       "        Situation  \n",
       "636970       Fall  \n",
       "734642       Fall  \n",
       "1069635  Not Fall  \n",
       "793919       Fall  \n",
       "541529       Fall  "
      ]
     },
     "execution_count": 12,
     "metadata": {},
     "output_type": "execute_result"
    }
   ],
   "source": [
    "# Loading the dataset\n",
    "KalmanFilter_SisFall= pd.read_csv('Dataset/KalmanFilter-SisFall.csv')\n",
    "# Showing 5 random row of dataset\n",
    "KalmanFilter_SisFall.sample(5, random_state= 48)"
   ]
  },
  {
   "cell_type": "code",
   "execution_count": 13,
   "id": "70aea6be",
   "metadata": {},
   "outputs": [],
   "source": [
    "# Making a copy of original dataset to work with\n",
    "df= KalmanFilter_SisFall.copy()"
   ]
  },
  {
   "cell_type": "markdown",
   "id": "9541ae14",
   "metadata": {},
   "source": [
    "Sliding window"
   ]
  },
  {
   "cell_type": "code",
   "execution_count": 14,
   "id": "28ddf23e",
   "metadata": {},
   "outputs": [],
   "source": [
    "# Initialize the new column with empty lists\n",
    "df['situation_ratio']= [[] for _ in range(len(df))]\n",
    "\n",
    "window_size= 200\n",
    "stride= 150\n",
    "\n",
    "for start in range(0, len(df), stride):\n",
    "    end= start + window_size\n",
    "    if end > len(df):\n",
    "        window_df= df['Situation'].iloc[start :]\n",
    "    else:\n",
    "        window_df= df['Situation'].iloc[start : end]\n",
    "    \n",
    "    win= window_df.value_counts().reset_index()\n",
    "    win.columns= ['Situation', 'count']\n",
    "    win.sort_values(by= 'count', ascending= True, inplace= True)\n",
    "\n",
    "    # Make sure there are at least 2 classes to compare\n",
    "    if len(win) > 1 and win['count'].values[1] != 0:\n",
    "        value= int(win['count'].values[0] / win['count'].values[1] * 100)\n",
    "    else:\n",
    "        value= 0\n",
    "\n",
    "    # Assign value to each row in this window\n",
    "    for i in range(start, min(end, len(df))):\n",
    "        df.at[i, 'situation_ratio'].append(value)"
   ]
  },
  {
   "cell_type": "markdown",
   "id": "7481f709",
   "metadata": {},
   "source": [
    "Siruation ration in every window"
   ]
  },
  {
   "cell_type": "code",
   "execution_count": null,
   "id": "259177fb",
   "metadata": {},
   "outputs": [],
   "source": [
    "# Lets check the ratio of situations in every window\n",
    "exploded_df= df.copy()\n",
    "exploded_df= exploded_df.explode(['situation_ratio'])"
   ]
  },
  {
   "cell_type": "code",
   "execution_count": 22,
   "id": "4a316203",
   "metadata": {},
   "outputs": [
    {
     "data": {
      "text/plain": [
       "situation_ratio\n",
       "0     2795950\n",
       "60        200\n",
       "Name: count, dtype: int64"
      ]
     },
     "execution_count": 22,
     "metadata": {},
     "output_type": "execute_result"
    }
   ],
   "source": [
    "# Counting the different situation ratio in dataset\n",
    "exploded_df['situation_ratio'].value_counts()"
   ]
  },
  {
   "cell_type": "markdown",
   "id": "d1e0100f",
   "metadata": {},
   "source": [
    "Deleting rows with bad situation ratio"
   ]
  },
  {
   "cell_type": "code",
   "execution_count": 26,
   "id": "e3c702ab",
   "metadata": {},
   "outputs": [],
   "source": [
    "deleted_rows= exploded_df[exploded_df['situation_ratio'] != 0].index\n",
    "df.drop(index= deleted_rows, inplace= True)"
   ]
  },
  {
   "cell_type": "code",
   "execution_count": 28,
   "id": "0066e449",
   "metadata": {},
   "outputs": [
    {
     "data": {
      "text/plain": [
       "(2097150, 13)"
      ]
     },
     "execution_count": 28,
     "metadata": {},
     "output_type": "execute_result"
    }
   ],
   "source": [
    "KalmanFilter_SisFall.shape"
   ]
  },
  {
   "cell_type": "code",
   "execution_count": 27,
   "id": "a1fff3fd",
   "metadata": {},
   "outputs": [
    {
     "data": {
      "text/plain": [
       "(2096950, 14)"
      ]
     },
     "execution_count": 27,
     "metadata": {},
     "output_type": "execute_result"
    }
   ],
   "source": [
    "df.shape"
   ]
  },
  {
   "cell_type": "code",
   "execution_count": 29,
   "id": "2e0ddc48",
   "metadata": {},
   "outputs": [
    {
     "data": {
      "text/plain": [
       "200"
      ]
     },
     "execution_count": 29,
     "metadata": {},
     "output_type": "execute_result"
    }
   ],
   "source": [
    "KalmanFilter_SisFall.shape[0] - df.shape[0]"
   ]
  },
  {
   "cell_type": "code",
   "execution_count": null,
   "id": "a7bb7c69",
   "metadata": {},
   "outputs": [
    {
     "data": {
      "text/plain": [
       "10484.0"
      ]
     },
     "execution_count": 32,
     "metadata": {},
     "output_type": "execute_result"
    }
   ],
   "source": [
    "# Checking the last window\n",
    "(df.shape[0] - 150) / 200"
   ]
  },
  {
   "cell_type": "code",
   "execution_count": 36,
   "id": "128abfad",
   "metadata": {},
   "outputs": [],
   "source": [
    "# Deleting the last 150 rows(for getting all perfect windows with 200 rows)\n",
    "df.drop(index= [i for i in range(len(df) - 150, len(df))], inplace= True)"
   ]
  },
  {
   "cell_type": "code",
   "execution_count": 39,
   "id": "9af73fa3",
   "metadata": {},
   "outputs": [
    {
     "data": {
      "text/plain": [
       "10484.0"
      ]
     },
     "execution_count": 39,
     "metadata": {},
     "output_type": "execute_result"
    }
   ],
   "source": [
    "df.shape[0] / 200"
   ]
  },
  {
   "cell_type": "code",
   "execution_count": 40,
   "id": "2df9abf0",
   "metadata": {},
   "outputs": [
    {
     "data": {
      "text/html": [
       "<div>\n",
       "<style scoped>\n",
       "    .dataframe tbody tr th:only-of-type {\n",
       "        vertical-align: middle;\n",
       "    }\n",
       "\n",
       "    .dataframe tbody tr th {\n",
       "        vertical-align: top;\n",
       "    }\n",
       "\n",
       "    .dataframe thead th {\n",
       "        text-align: right;\n",
       "    }\n",
       "</style>\n",
       "<table border=\"1\" class=\"dataframe\">\n",
       "  <thead>\n",
       "    <tr style=\"text-align: right;\">\n",
       "      <th></th>\n",
       "      <th>ADXL345_x</th>\n",
       "      <th>ADXL345_y</th>\n",
       "      <th>ADXL345_z</th>\n",
       "      <th>ITG3200_x</th>\n",
       "      <th>ITG3200_y</th>\n",
       "      <th>ITG3200_z</th>\n",
       "      <th>MMA8451Q_x</th>\n",
       "      <th>MMA8451Q_y</th>\n",
       "      <th>MMA8451Q_z</th>\n",
       "      <th>x_kalman</th>\n",
       "      <th>y_kalman</th>\n",
       "      <th>z_kalman</th>\n",
       "      <th>Situation</th>\n",
       "      <th>situation_ratio</th>\n",
       "    </tr>\n",
       "  </thead>\n",
       "  <tbody>\n",
       "    <tr>\n",
       "      <th>1233484</th>\n",
       "      <td>256</td>\n",
       "      <td>38</td>\n",
       "      <td>24</td>\n",
       "      <td>-46</td>\n",
       "      <td>22</td>\n",
       "      <td>4</td>\n",
       "      <td>990</td>\n",
       "      <td>145</td>\n",
       "      <td>224</td>\n",
       "      <td>490.93</td>\n",
       "      <td>77.85</td>\n",
       "      <td>100.53</td>\n",
       "      <td>Not Fall</td>\n",
       "      <td>[0, 0]</td>\n",
       "    </tr>\n",
       "    <tr>\n",
       "      <th>1462488</th>\n",
       "      <td>19</td>\n",
       "      <td>-155</td>\n",
       "      <td>190</td>\n",
       "      <td>35</td>\n",
       "      <td>10</td>\n",
       "      <td>-11</td>\n",
       "      <td>59</td>\n",
       "      <td>-655</td>\n",
       "      <td>806</td>\n",
       "      <td>39.96</td>\n",
       "      <td>-322.30</td>\n",
       "      <td>395.71</td>\n",
       "      <td>Not Fall</td>\n",
       "      <td>[0]</td>\n",
       "    </tr>\n",
       "    <tr>\n",
       "      <th>437190</th>\n",
       "      <td>-151</td>\n",
       "      <td>141</td>\n",
       "      <td>-651</td>\n",
       "      <td>-3101</td>\n",
       "      <td>-1123</td>\n",
       "      <td>484</td>\n",
       "      <td>-599</td>\n",
       "      <td>1032</td>\n",
       "      <td>-2679</td>\n",
       "      <td>-940.20</td>\n",
       "      <td>-215.04</td>\n",
       "      <td>-1182.59</td>\n",
       "      <td>Fall</td>\n",
       "      <td>[0]</td>\n",
       "    </tr>\n",
       "    <tr>\n",
       "      <th>1059586</th>\n",
       "      <td>72</td>\n",
       "      <td>-361</td>\n",
       "      <td>-5</td>\n",
       "      <td>-555</td>\n",
       "      <td>298</td>\n",
       "      <td>-370</td>\n",
       "      <td>267</td>\n",
       "      <td>-1380</td>\n",
       "      <td>108</td>\n",
       "      <td>30.23</td>\n",
       "      <td>-565.72</td>\n",
       "      <td>60.65</td>\n",
       "      <td>Not Fall</td>\n",
       "      <td>[0]</td>\n",
       "    </tr>\n",
       "    <tr>\n",
       "      <th>1660984</th>\n",
       "      <td>89</td>\n",
       "      <td>-146</td>\n",
       "      <td>-275</td>\n",
       "      <td>-514</td>\n",
       "      <td>-449</td>\n",
       "      <td>339</td>\n",
       "      <td>216</td>\n",
       "      <td>-492</td>\n",
       "      <td>-946</td>\n",
       "      <td>-159.90</td>\n",
       "      <td>-283.34</td>\n",
       "      <td>-153.79</td>\n",
       "      <td>Not Fall</td>\n",
       "      <td>[0, 0]</td>\n",
       "    </tr>\n",
       "  </tbody>\n",
       "</table>\n",
       "</div>"
      ],
      "text/plain": [
       "         ADXL345_x  ADXL345_y  ADXL345_z  ITG3200_x  ITG3200_y  ITG3200_z  \\\n",
       "1233484        256         38         24        -46         22          4   \n",
       "1462488         19       -155        190         35         10        -11   \n",
       "437190        -151        141       -651      -3101      -1123        484   \n",
       "1059586         72       -361         -5       -555        298       -370   \n",
       "1660984         89       -146       -275       -514       -449        339   \n",
       "\n",
       "         MMA8451Q_x  MMA8451Q_y  MMA8451Q_z  x_kalman  y_kalman  z_kalman  \\\n",
       "1233484         990         145         224    490.93     77.85    100.53   \n",
       "1462488          59        -655         806     39.96   -322.30    395.71   \n",
       "437190         -599        1032       -2679   -940.20   -215.04  -1182.59   \n",
       "1059586         267       -1380         108     30.23   -565.72     60.65   \n",
       "1660984         216        -492        -946   -159.90   -283.34   -153.79   \n",
       "\n",
       "        Situation situation_ratio  \n",
       "1233484  Not Fall          [0, 0]  \n",
       "1462488  Not Fall             [0]  \n",
       "437190       Fall             [0]  \n",
       "1059586  Not Fall             [0]  \n",
       "1660984  Not Fall          [0, 0]  "
      ]
     },
     "execution_count": 40,
     "metadata": {},
     "output_type": "execute_result"
    }
   ],
   "source": [
    "df.sample(5, random_state= 48)"
   ]
  }
 ],
 "metadata": {
  "kernelspec": {
   "display_name": "Qvenv",
   "language": "python",
   "name": "qvenv"
  },
  "language_info": {
   "codemirror_mode": {
    "name": "ipython",
    "version": 3
   },
   "file_extension": ".py",
   "mimetype": "text/x-python",
   "name": "python",
   "nbconvert_exporter": "python",
   "pygments_lexer": "ipython3",
   "version": "3.10.0"
  }
 },
 "nbformat": 4,
 "nbformat_minor": 5
}
